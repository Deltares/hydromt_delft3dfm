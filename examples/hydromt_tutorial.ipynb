{
 "cells": [
  {
   "cell_type": "markdown",
   "id": "9a73590b",
   "metadata": {},
   "source": [
    "## Model building using HydroMT Delft3D FM"
   ]
  },
  {
   "cell_type": "markdown",
   "id": "ee510c6e",
   "metadata": {},
   "source": [
    "This notebook demonstrates how to prepare a **Delft3D FM** model from scratch using the command line interace (CLI).  We will demonstrate the required steps for model building and show the contents of a **configuration file** and the **data catalog**. After following this notebook, you should be able to follow the example notebooks for building the 1D, 2D and coupled 1D2D models.\n",
    "\n",
    "It is necessary to have a Python environment with HydroMT Core and the HydroMT Delft3D FM plugin installed to be able to run the notebook, as well as additional packages such as **jupyterlab** and **notebook** for notebook functionality, and **cartopy** and **matplotlib** for plotting purposes. The installation guide for HydroMT Delft3D FM can be found in the [User Guide](https://deltares.github.io/hydromt_delft3dfm/latest/getting_started/installation.html)."
   ]
  },
  {
   "cell_type": "markdown",
   "id": "6b96aa15",
   "metadata": {},
   "source": [
    "> **NOTE**: \n",
    "All lines in this notebook which start with `!` are executed from the command line. Within the notebook environment the logging messages are shown after completion. You can also copy these lines and paste these in your shell to get more direct feedback."
   ]
  },
  {
   "cell_type": "markdown",
   "id": "451c8168",
   "metadata": {},
   "source": [
    "### Accessing HydroMT through CLI"
   ]
  },
  {
   "cell_type": "markdown",
   "id": "2c70853e",
   "metadata": {},
   "source": [
    "Lets first check if the Delft3D FM model is recognized by HydroMT using the command `hydromt --models`. This should return **dflowfm**, as well as as well as the generic HydroMT models: **grid_model**, **lumped_model**, **mesh_model**, **network_model**."
   ]
  },
  {
   "cell_type": "markdown",
   "id": "c045f489",
   "metadata": {},
   "source": [
    "> **NOTE**: \n",
    "If you have other HydroMT plugins installed in the same environment (Wflow, SFINCS, FIAT, and more), then these models will also appear after this command."
   ]
  },
  {
   "cell_type": "code",
   "execution_count": 1,
   "id": "40470302",
   "metadata": {},
   "outputs": [
    {
     "name": "stdout",
     "output_type": "stream",
     "text": [
      "model plugins:\n",
      " - dflowfm (hydromt_delft3dfm 0.3.0)\n",
      "generic models (hydromt 0.10.0):\n",
      " - grid_model\n",
      " - vector_model\n",
      " - mesh_model\n",
      " - network_model\n",
      "\n"
     ]
    }
   ],
   "source": [
    "!hydromt --models"
   ]
  },
  {
   "cell_type": "markdown",
   "id": "920c45b2",
   "metadata": {},
   "source": [
    "We can use the command `hydromt --help` to get an overview of all the commands that can be accessed throug the command line interface. HydroMT is typically used to `hydromt build` a model using a configuration file. It is also possible to `hydromt update` or `hydromt clip` existing models. The command `hydromt export` is not directly related to model building, but used to export data from a data catalog. The command `hydromt check` is used to validate the configuration file and the linked data catalogs and region settings. This can especially be useful to catch mistakes in the model building process without having to pass all the model building steps, which can take a lot of time for large models.\n",
    "\n",
    "A more detailed description of these commands can be found in the [HydroMT API](https://deltares.github.io/hydromt/latest/api/cli.html). "
   ]
  },
  {
   "cell_type": "code",
   "execution_count": 3,
   "id": "ed06a240",
   "metadata": {},
   "outputs": [
    {
     "name": "stdout",
     "output_type": "stream",
     "text": [
      "Usage: hydromt [OPTIONS] COMMAND [ARGS]...\n",
      "\n",
      "  Command line interface for hydromt models.\n",
      "\n",
      "Options:\n",
      "  --version  Show the version and exit.\n",
      "  --models   Print available model plugins and exit.\n",
      "  --help     Show this message and exit.\n",
      "\n",
      "Commands:\n",
      "  build   Build models\n",
      "  check   Validate config / data catalog / region\n",
      "  clip    Clip models.\n",
      "  export  Export data\n",
      "  update  Update models\n"
     ]
    }
   ],
   "source": [
    "!hydromt --help"
   ]
  },
  {
   "cell_type": "markdown",
   "id": "e0ef43af",
   "metadata": {},
   "source": [
    "> **NOTE**: \n",
    "When inspecting the documentation of HydroMT Core, make sure that you open the documentation for the corresponding HydroMT version. The HydroMT version of your Python environment is listed as a part of the `hydromt --models` command, or can be found by simply using `hydromt --version`."
   ]
  },
  {
   "cell_type": "code",
   "execution_count": 4,
   "id": "add0c270",
   "metadata": {},
   "outputs": [
    {
     "name": "stdout",
     "output_type": "stream",
     "text": [
      "HydroMT version: 0.10.0\n"
     ]
    }
   ],
   "source": [
    "!hydromt --version"
   ]
  },
  {
   "cell_type": "markdown",
   "id": "b3f8ece2",
   "metadata": {},
   "source": [
    "### Requirements for building a model in HydroMT Delft3D FM"
   ]
  },
  {
   "cell_type": "markdown",
   "id": "7d9b5a20",
   "metadata": {},
   "source": [
    "Using the **HydroMT build** API we can setup a complete model from scratch. Let's get an overview of all the available options:"
   ]
  },
  {
   "cell_type": "code",
   "execution_count": 5,
   "id": "1d39e4a1",
   "metadata": {},
   "outputs": [
    {
     "name": "stdout",
     "output_type": "stream",
     "text": [
      "Usage: hydromt build [OPTIONS] MODEL MODEL_ROOT\n",
      "\n",
      "  Build models from scratch.\n",
      "\n",
      "  Example usage: --------------\n",
      "\n",
      "  To build a wflow model for a subbasin using a point coordinates snapped to\n",
      "  cells with upstream area >= 50 km2 hydromt build wflow /path/to/model_root\n",
      "  -i /path/to/wflow_config.yml  -r \"{'subbasin': [-7.24, 62.09], 'uparea':\n",
      "  50}\" -d deltares_data -d /path/to/data_catalog.yml -v\n",
      "\n",
      "  To build a sfincs model based on a bbox hydromt build sfincs\n",
      "  /path/to/model_root  -i /path/to/sfincs_config.yml  -r \"{'bbox':\n",
      "  [4.6891,52.9750,4.9576,53.1994]}\"  -d /path/to/data_catalog.yml -v\n",
      "\n",
      "Options:\n",
      "  --opt TEXT               Method specific keyword arguments, see the method\n",
      "                           documentation of the specific model for more\n",
      "                           information about the arguments.\n",
      "  -i, --config PATH        Path to hydroMT configuration file, for the model\n",
      "                           specific implementation.\n",
      "  -r, --region TEXT        Set the region for which to build the model, e.g.\n",
      "                           {'subbasin': [-7.24, 62.09]}\n",
      "  -d, --data TEXT          Path to local yaml data catalog file OR name of\n",
      "                           predefined data catalog.\n",
      "  --dd, --deltares-data    Flag: Shortcut to add the \"deltares_data\" catalog\n",
      "  --fo, --force-overwrite  Flag: If provided overwrite existing model files\n",
      "  --cache                  Flag: If provided cache tiled rasterdatasets\n",
      "  -v, --verbose            Increase verbosity.\n",
      "  -q, --quiet              Decrease verbosity.\n",
      "  --help                   Show this message and exit.\n"
     ]
    }
   ],
   "source": [
    "!hydromt build --help"
   ]
  },
  {
   "cell_type": "markdown",
   "id": "261a2edc",
   "metadata": {},
   "source": [
    "We can see that there are two required arguments for building a model: `MODEL` describing the type of model to build, and `MODEL_ROOT` which is the root path of the model. Additionally, a HydroMT configuration file can be used using either `-i` or `--config`, a data catalog using either `-d` or `--data` and region settings using `-r` or `--region`. Both the configuration file and the data catalog will be explained in greater detail in this notebook."
   ]
  },
  {
   "cell_type": "markdown",
   "id": "e84ea23c",
   "metadata": {},
   "source": [
    "> **NOTE**: \n",
    "In the current version of HydroMT Delft3D FM, no region settings are required when building a model."
   ]
  },
  {
   "cell_type": "markdown",
   "id": "ebd31242",
   "metadata": {},
   "source": [
    "### Model setup configuration"
   ]
  },
  {
   "cell_type": "markdown",
   "id": "fb8282c9",
   "metadata": {},
   "source": [
    "The HydroMT configuration file contains the model setup configuration and determines which methods are used to prepare the different components of a Delft3D FM model and in which order and optionally sets non-default arguments for each method. This configuration is passed to HydroMT using `-i <path_to_configuration_file>`. We have prepared several example yml-files which are available in the model repository [examples folder](https://github.com/Deltares/hydromt_delft3dfm/tree/main/examples) and from the [docs (building a model)](https://deltares.github.io/hydromt_delft3dfm/latest/user_guide/dflowfm_build). These example yml-files are also used in this notebook to build the 1D, 2D and coupled 1D2D models.\n",
    "\n",
    "Each section, before indent, (e.g. setup_rivers_from_dem) corresponds to a model method. A model method is a step inside the model building process. Each method adds a new component to the model, thus building the model step-by-step. All model methods are explained in the [docs (model components)](https://deltares.github.io/hydromt_delft3dfm/latest/user_guide/dflowfm_model_setup.html). The `global` section contains direct model initialisation properties which are required when the empty model is initialized. It typically contains global settings such as the coordinate system of the model."
   ]
  },
  {
   "cell_type": "markdown",
   "id": "cc3fd44d",
   "metadata": {},
   "source": [
    "We will load the default dflowfm build 1D2D yaml file for inspection:"
   ]
  },
  {
   "cell_type": "code",
   "execution_count": 6,
   "id": "7393a54d",
   "metadata": {},
   "outputs": [
    {
     "name": "stdout",
     "output_type": "stream",
     "text": [
      "global:\n",
      "  crs: 3857\n",
      "  network_snap_offset: 25\n",
      "  openwater_computation_node_distance: 40\n",
      "\n",
      "setup_rivers_from_dem:\n",
      "  region: \n",
      "    bbox: [12.4331, 46.4661, 12.5212, 46.5369]\n",
      "  hydrography_fn: merit_hydro\n",
      "  river_geom_fn: hydro_rivers_lin\n",
      "  rivers_defaults_fn: rivers_defaults\n",
      "  rivdph_method: gvf\n",
      "  rivwth_method: geom\n",
      "  river_upa: 25.0\n",
      "  friction_type: \"Manning\"\n",
      "  friction_value: 0.023\n",
      "  rivbankq: 25\n",
      "\n",
      "setup_pipes:\n",
      "  region: \n",
      "    bbox: [12.4331, 46.4661, 12.5212, 46.5369]\n",
      "  pipes_fn: grip_roads\n",
      "  pipes_defaults_fn: pipes_defaults\n",
      "  pipe_filter: pipe\n",
      "  spacing: 50\n",
      "  friction_type: WhiteColeBrook\n",
      "  friction_value: 0.003\n",
      "  crosssections_shape: circle\n",
      "  crosssections_value: 0.5\n",
      "  dem_fn: merit_hydro # [copdem30, merit]\n",
      "  pipes_depth: 2.0\n",
      "  snap_offset: 0.5\n",
      "  pipes_invlev: 3. \n",
      "\n",
      "setup_manholes:\n",
      "  manholes_fn:\n",
      "  manholes_defaults_fn: manholes_defaults\n",
      "  dem_fn: merit_hydro\n",
      "  bedlevel_shift: 0.5\n",
      "\n",
      "setup_1dboundary:\n",
      "  boundary_value: -2.0\n",
      "  branch_type: river\n",
      "  boundary_type: waterlevel\n",
      "  boundary_unit: m\n",
      "  boundary_locs: both\n",
      "\n",
      "setup_mesh2d:\n",
      "  region: \n",
      "    bbox: [12.4331, 46.4661, 12.5212, 46.5369]\n",
      "  res: 500\n",
      "\n",
      "setup_maps_from_rasterdataset:\n",
      "  raster_fn: merit_hydro\n",
      "  variables: [\"elevtn\"]\n",
      "  fill_method: nearest\n",
      "  interpolation_method: nearestNb\n",
      "\n",
      "setup_maps_from_raster_reclass:\n",
      "  raster_fn: vito_2015\n",
      "  reclass_table_fn: vito_mapping\n",
      "  reclass_variables: ['roughness_manning', 'infiltcap']\n",
      "  interpolation_method: triangulation\n",
      "\n",
      "setup_rainfall_from_constant:\n",
      "  constant_value: 150\n",
      "\n",
      "setup_link1d2d:\n",
      "  link_direction: 1d_to_2d\n"
     ]
    }
   ],
   "source": [
    "fn_yml = \"dflowfm_build_piave.yml\"\n",
    "with open(fn_yml, \"r\") as f:\n",
    "    txt = f.read()\n",
    "print(txt)"
   ]
  },
  {
   "cell_type": "markdown",
   "id": "708139e9",
   "metadata": {},
   "source": [
    "It can be seen that many arguments are required for the methods. Some arguments require data sources, typically indicated using `<...>_fn`. For example, the `setup_pipes` method requires a data source for the geometry of the pipes: `pipes_fn`, and additionally a data source with the default geometry of these pipes: `pipes_default_fn`. These data sources are obtained either directly by providing a path to the corresponding file, or by using an entry from a given **data catalog**. The next section explains how to create and use a **data catalog**."
   ]
  },
  {
   "cell_type": "markdown",
   "id": "b0242689",
   "metadata": {},
   "source": [
    "> **NOTE**: \n",
    "  In this example, we apply region argument in setup_rivers_from_dem, setup_pipes and setup_mesh2d. They are identical in this example but one can alter them to have different region for rivers, for pipes and for 2dmesh. This allows the user to customize their model as much as possible, as the extent of the 1D river can differ from the extent of the 1D urban network or the 2D inundation grid. The region bbox are in WGS 84 as required, but the user should specify the dflowfm model destination CRS in the `global` section in order to allow to use grid definition data (rivers, pipes) from different data sources or CRS. "
   ]
  },
  {
   "cell_type": "markdown",
   "id": "7584dcae",
   "metadata": {},
   "source": [
    "### Data for model setup"
   ]
  },
  {
   "cell_type": "markdown",
   "id": "dad35651",
   "metadata": {},
   "source": [
    "Most of the time, the `<...>_fn` arguments correspond to a data source from the `DataCatalog` which is based on a yml-file with references to the data paths/urls and how the data should be read. This file can be provided to hydromt using `-d <path_to_yml_file>`. The functionality of the data catalog is prescribed by HydroMT Core and therefore, the detailed description on how to create and use a data catalog can be found in the [HydroMT core docs](https://deltares.github.io/hydromt/latest/user_guide/data_prepare_cat.html). It is possible to use multiple data catalogs by repeating the `-d` flag.\n",
    "\n",
    "A data catalog in HydroMT is a structured way to organize and reference various datasets, making it easier to manage and access data for modelling. Its entries describe where data can be found, which adapter to use to read data with which settings, how to change the data when reading (scaling, off-setting) and metadata.\n",
    "\n",
    "> **NOTE**: In HydroMT-Delft3D FM, an additional data catalog with all default parameters values is always used [parameters_data.yml](https://github.com/Deltares/hydromt_delft3dfm/tree/main/hydromt_delft3dfm/data/parameters_data.yml). It contains default values for 1D network elements and structures as well as default 2D landuse parameter mapping tables."
   ]
  },
  {
   "cell_type": "markdown",
   "id": "68dc497c",
   "metadata": {},
   "source": [
    "We use the pre-defined `artifact_data` catalog in this example notebook which contains some example data for the Piave basin. This data will be downloaded to `~/.hydromt_data/`. To give an example of a data catalog, we will use `hydromt export` to download and export some entries of the `artifact_data` catalog. This will be done for the same region as the example build models, and the target directory will be the **data** folder, which should already exist in the same folder as this notebook"
   ]
  },
  {
   "cell_type": "code",
   "execution_count": 10,
   "id": "13770b1d",
   "metadata": {},
   "outputs": [
    {
     "name": "stdout",
     "output_type": "stream",
     "text": [
      "2024-11-05 10:35:33,360 - export - log - DEBUG - Appending log messages to file C:\\git\\hydromt_delft3dfm\\examples\\data\\hydromt.log.\n",
      "2024-11-05 10:35:33,360 - export - log - INFO - HydroMT version: 0.10.0\n",
      "2024-11-05 10:35:33,360 - export - main - INFO - Output dir: C:\\git\\hydromt_delft3dfm\\examples\\data\n"
     ]
    }
   ],
   "source": [
    "!hydromt export ./data -s grip_roads -s merit_hydro -s vito_2015 -r \"{'bbox': [12.4331, 46.4661, 12.5212, 46.5369]}\" -d artifact_data -vvv "
   ]
  },
  {
   "cell_type": "markdown",
   "id": "53c535ca",
   "metadata": {},
   "source": [
    "After downloading the data, we can inspect the corresponding data catalog:"
   ]
  },
  {
   "cell_type": "code",
   "execution_count": 12,
   "id": "da1cb1f9",
   "metadata": {},
   "outputs": [
    {
     "name": "stdout",
     "output_type": "stream",
     "text": [
      "meta:\n",
      "  root: C:\\git\\hydromt_delft3dfm\\examples\\data\n",
      "grip_roads:\n",
      "  data_type: GeoDataFrame\n",
      "  version: v4\n",
      "  path: grip_roads.gpkg\n",
      "  driver: vector\n",
      "  filesystem: local\n",
      "  meta:\n",
      "    category: road\n",
      "    paper_doi: 10.1088/1748-9326/aabd42\n",
      "    paper_ref: Meijer et al, 2018\n",
      "    source_license: CC0-1.0\n",
      "    source_url: https://www.globio.info/download-grip-dataset\n",
      "  crs: 4326\n",
      "merit_hydro:\n",
      "  data_type: RasterDataset\n",
      "  version: '1.0'\n",
      "  path: merit_hydro/{variable}.tif\n",
      "  driver: raster\n",
      "  filesystem: local\n",
      "  meta:\n",
      "    category: topography\n",
      "    paper_doi: 10.1029/2019WR024873\n",
      "    paper_ref: Yamazaki et al. (2019)\n",
      "    source_license: CC-BY-NC 4.0 or ODbL 1.0\n",
      "    source_url: http://hydro.iis.u-tokyo.ac.jp/~yamadai/MERIT_Hydro\n",
      "  crs: 4326\n",
      "vito_2015:\n",
      "  data_type: RasterDataset\n",
      "  version: 2.0.2\n",
      "  path: vito_2015.tif\n",
      "  driver: raster\n",
      "  filesystem: local\n",
      "  meta:\n",
      "    category: landuse & landcover\n",
      "    paper_doi: 10.5281/zenodo.3939038\n",
      "    paper_ref: Buchhorn et al (2020)\n",
      "    source_url: https://land.copernicus.eu/global/products/lc\n",
      "  crs: 4326\n",
      "\n"
     ]
    }
   ],
   "source": [
    "dc_yml = \"./data/data_catalog.yml\"\n",
    "with open(dc_yml, \"r\") as f:\n",
    "    txt = f.read()\n",
    "print(txt)"
   ]
  },
  {
   "cell_type": "markdown",
   "id": "85c7918e",
   "metadata": {},
   "source": [
    "### Next steps: Model building notebooks"
   ]
  },
  {
   "cell_type": "markdown",
   "id": "e8e24ef7",
   "metadata": {},
   "source": [
    "The basic concepts of accessing HydroMT Delft3D FM using CLI have been explained in this notebook, as well as the contents of a **configuration file** and a **data catalog**. You can now continue to the notebooks where Delft3D FM models will be build using an example configuration file and the artifact data. It is advised to first try building the 1D and 2D models (`build_1dmodel.ipynb` and `build_2dmodel.ipynb`) before moving to the coupled 1D2D model (`build_1d2dmodel.ipynb`)."
   ]
  },
  {
   "cell_type": "markdown",
   "id": "c0dde1d6",
   "metadata": {},
   "source": [
    "Additionally, an example notebook is included highlighting the functionality of grid refinement (`update_refine_2dgrid.ipynb`) and how to plot the mesh of a model using Python (`plot_dflowfm_mesh.ipynb`)."
   ]
  }
 ],
 "metadata": {
  "kernelspec": {
   "display_name": "dsd_env",
   "language": "python",
   "name": "python3"
  },
  "language_info": {
   "codemirror_mode": {
    "name": "ipython",
    "version": 3
   },
   "file_extension": ".py",
   "mimetype": "text/x-python",
   "name": "python",
   "nbconvert_exporter": "python",
   "pygments_lexer": "ipython3",
   "version": "3.9.20"
  }
 },
 "nbformat": 4,
 "nbformat_minor": 5
}
