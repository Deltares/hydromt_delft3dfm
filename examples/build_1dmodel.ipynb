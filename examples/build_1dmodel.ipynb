{
 "cells": [
  {
   "cell_type": "markdown",
   "id": "9a73590b",
   "metadata": {},
   "source": [
    "## Build a Delft3D FM 1D model from scratch"
   ]
  },
  {
   "cell_type": "markdown",
   "id": "ee510c6e",
   "metadata": {},
   "source": [
    "This notebook demonstrates how to prepare a **1D Delft3D FM** model from scratch using the command line interace (CLI)."
   ]
  },
  {
   "cell_type": "markdown",
   "id": "6b96aa15",
   "metadata": {},
   "source": [
    "All lines in this notebook which start with `!` are executed from the command line. Within the notebook environment the logging messages are shown after completion. You can also copy these lines and paste these in your shell to get more direct feedback."
   ]
  },
  {
   "cell_type": "markdown",
   "id": "451c8168",
   "metadata": {},
   "source": [
    "### HydroMT CLI build interface"
   ]
  },
  {
   "cell_type": "markdown",
   "id": "2c70853e",
   "metadata": {},
   "source": [
    "Lets first check if the Delft3D FM model is recognized by HydroMT:"
   ]
  },
  {
   "cell_type": "code",
   "execution_count": 2,
   "id": "40470302",
   "metadata": {},
   "outputs": [
    {
     "name": "stdout",
     "output_type": "stream",
     "text": [
      "model plugins:\n",
      " - dflowfm (hydromt_delft3dfm 0.1.0)\n",
      "generic models (hydromt 0.8.1.dev0):\n",
      " - grid_model\n",
      " - lumped_model\n",
      " - mesh_model\n",
      " - network_model\n",
      "\n"
     ]
    }
   ],
   "source": [
    "# this should return \"dflowfm\" to build DFlowFM components of Delft3D FM\n",
    "# as well as the generic HydroMT models \"grid_model, lumped_model, mesh_model, network_model\"\n",
    "!hydromt --models"
   ]
  },
  {
   "cell_type": "markdown",
   "id": "7d9b5a20",
   "metadata": {},
   "source": [
    "Using the **HydroMT build** API we can setup a complete model from scratch. Let's get an overview of all the available options:"
   ]
  },
  {
   "cell_type": "code",
   "execution_count": 3,
   "id": "1d39e4a1",
   "metadata": {},
   "outputs": [
    {
     "name": "stdout",
     "output_type": "stream",
     "text": [
      "Usage: hydromt build [OPTIONS] MODEL MODEL_ROOT\n",
      "\n",
      "  Build models from scratch.\n",
      "\n",
      "  Example usage: --------------\n",
      "\n",
      "  To build a wflow model for a subbasin using a point coordinates snapped to\n",
      "  cells with upstream area >= 50 km2 hydromt build wflow /path/to/model_root\n",
      "  -i /path/to/wflow_config.ini  -r \"{'subbasin': [-7.24, 62.09], 'uparea':\n",
      "  50}\" -d deltares_data -d /path/to/data_catalog.yml -v\n",
      "\n",
      "  To build a sfincs model based on a bbox hydromt build sfincs\n",
      "  /path/to/model_root  -i /path/to/sfincs_config.ini  -r \"{'bbox':\n",
      "  [4.6891,52.9750,4.9576,53.1994]}\"  -d /path/to/data_catalog.yml -v\n",
      "\n",
      "Options:\n",
      "  --opt TEXT               Method specific keyword arguments, see the method\n",
      "                           documentation of the specific model for more\n",
      "                           information about the arguments.\n",
      "  -i, --config PATH        Path to hydroMT configuration file, for the model\n",
      "                           specific implementation.\n",
      "  -r, --region TEXT        Set the region for which to build the model, e.g.\n",
      "                           {'subbasin': [-7.24, 62.09]}\n",
      "  -d, --data TEXT          Path to local yaml data catalog file OR name of\n",
      "                           predefined data catalog.\n",
      "  --dd, --deltares-data    Flag: Shortcut to add the \"deltares_data\" catalog\n",
      "  --fo, --force-overwrite  Flag: If provided overwrite existing model files\n",
      "  --cache                  Flag: If provided cache tiled rasterdatasets\n",
      "  -v, --verbose            Increase verbosity.\n",
      "  -q, --quiet              Decrease verbosity.\n",
      "  --help                   Show this message and exit.\n"
     ]
    }
   ],
   "source": [
    "!hydromt build --help"
   ]
  },
  {
   "cell_type": "markdown",
   "id": "7584dcae",
   "metadata": {},
   "source": [
    "### Data for model setup"
   ]
  },
  {
   "cell_type": "markdown",
   "id": "dad35651",
   "metadata": {},
   "source": [
    "Most of the time, the `<...>_fn` arguments correspond to a data source from the `DataCatalog` which is based on a yml-file with references to the data paths/urls and how the data should be read. This file can be provided to hydromt using `-d <path_to_yml_file>`. \n",
    "\n",
    "By default, the pre-defined `artifact_data` catalog containing some example data for the Piave basin will be downloaded to `~/.hydromt_data/` which is also used for this example. An overview of the available example data is provided [here](https://deltares.github.io/hydromt/latest/user_guide/data_existing_cat.html)\n",
    "This example data is a based on the data which is available from the Deltares p-drive. \n",
    "If you have acces to this drive, a pre-configured catalog file can be loaded using the `-d deltares_data` pre-defined catalog. \n",
    "\n",
    "More information on how to write a data catalog yml file can be found in the [HydroMT core docs](https://deltares.github.io/hydromt/latest/user_guide/data_prepare_cat.html) \n",
    "\n",
    "> **NOTE**: In HydroMT-Delft3D FM, an additionnal data catalog with all default parameters values is always used [parameters_data.yml](https://github.com/Deltares/hydromt_delft3dfm/blob/54-examples/hydromt_delft3dfm/data/parameters_data.yml). It contains default values for 1D network elements and structures as well as default 2D landuse paramter mapping tables."
   ]
  },
  {
   "cell_type": "markdown",
   "id": "ebd31242",
   "metadata": {},
   "source": [
    "### Model setup configuration"
   ]
  },
  {
   "cell_type": "markdown",
   "id": "fb8282c9",
   "metadata": {},
   "source": [
    "The HydroMT configuration file contains the model setup configuration and determines which methods are used to prepare the different components of a Delft3D FM model and in which order and optionally sets non-default arguments for each method. This configuration is passed to HydroMT using `-i <path_to_configuration_file>`. The supported format are either YAML or INI. We have prepared several example yml-files which are available in the model repository [examples folder](https://github.com/Deltares/hydromt_delft3dfm/tree/main/examples) and from the [docs (building a model)](https://deltares.github.io/hydromt_delft3dfm/latest/user_guide/dflowfm_build). \n",
    "\n",
    "Each section, before indent, (e.g. setup_rivers_from_dem) corresponds to a model method. All model methods are explained in the [docs (model components)](https://deltares.github.io/hydromt_delft3dfm/latest/user_guide/dflowfm_model_setup.html). The `global` section contains direct model initialisation properties."
   ]
  },
  {
   "cell_type": "markdown",
   "id": "cc3fd44d",
   "metadata": {},
   "source": [
    "We will load the default dflowfm build 1D yaml file for inspection:"
   ]
  },
  {
   "cell_type": "code",
   "execution_count": 11,
   "id": "e88d4aed",
   "metadata": {},
   "outputs": [
    {
     "name": "stdout",
     "output_type": "stream",
     "text": [
      "global:\n",
      "  crs: 3857\n",
      "  network_snap_offset: 25\n",
      "  openwater_computation_node_distance: 40\n",
      "\n",
      "setup_rivers_from_dem:\n",
      "  region: \n",
      "    bbox: [12.4331, 46.4661, 12.5212, 46.5369]\n",
      "  hydrography_fn: merit_hydro\n",
      "  river_geom_fn: rivers_lin2019_v1\n",
      "  rivers_defaults_fn: rivers_defaults\n",
      "  rivdph_method: gvf\n",
      "  rivwth_method: geom\n",
      "  river_upa: 25.0\n",
      "  friction_type: \"Manning\"\n",
      "  friction_value: 0.023\n",
      "  rivbankq: 25\n",
      "\n",
      "setup_pipes:\n",
      "  region: \n",
      "    bbox: [12.4331, 46.4661, 12.5212, 46.5369]\n",
      "  pipes_fn: grip_roads\n",
      "  pipes_defaults_fn: pipes_defaults\n",
      "  pipe_filter: pipe\n",
      "  spacing: 50\n",
      "  friction_type: WhiteColeBrook\n",
      "  friction_value: 0.003\n",
      "  crosssections_shape: circle\n",
      "  crosssections_value: 0.5\n",
      "  dem_fn: merit_hydro # [copdem30, merit]\n",
      "  pipes_depth: 2.0\n",
      "  snap_offset: 0.5\n",
      "  pipes_invlev: 3.0\n",
      "\n",
      "setup_manholes:\n",
      "  manholes_fn:\n",
      "  manhole_defaults_fn: manholes_defaults\n",
      "  dem_fn: merit_hydro\n",
      "  bedlevel_shift: 0.5\n",
      "\n",
      "setup_1dboundary:\n",
      "  boundary_value: -2.0\n",
      "  branch_type: river\n",
      "  boundary_type: waterlevel\n",
      "  boundary_unit: m\n",
      "  boundary_locs: both\n"
     ]
    }
   ],
   "source": [
    "fn_yml = \"dflowfm_build1d.yml\"\n",
    "with open(fn_yml, \"r\") as f:\n",
    "    txt = f.read()\n",
    "print(txt)"
   ]
  },
  {
   "cell_type": "markdown",
   "id": "9607a239",
   "metadata": {},
   "source": [
    "Looking at this file, you see that we will prepare the following information for our model:\n",
    "\n",
    "- [global](https://deltares.github.io/hydromt_delft3dfm/latest/_generated/hydromt_delft3dfm.DFlowFMModel.html#hydromt_delft3dfm.DFlowFMModel): our model will be defined in the projected CRS WGS84 EPSG 3857.\n",
    "- [setup_rivers_from_dem](https://deltares.github.io/hydromt_delft3dfm/latest/_generated/hydromt_delft3dfm.DFlowFMModel.setup_rivers_from_dem.html): we will derive the 1D rivers lines based on the *MERIT Hydro DEM* and that intersects with the region bounding box [12.4331, 46.4661, 12.5212, 46.5369]. River roughness will be a Manning constant of 25.0 and we will use data from *rivers_lin2019* database to prepare rectangular cross-sections. Other default parameters are read from rivers_defaults data.\n",
    "- [setup_pipes](https://deltares.github.io/hydromt_delft3dfm/latest/_generated/hydromt_delft3dfm.DFlowFMModel.setup_pipes.html): we will add pipes by assuming that they are located under the roads as defined in the *grip_roads* data. Roughness will be a WhiteColeBrook constant of 0.003 and we will use a circular cross-sections of 0.5m. The pipes invert levels will be derived from the *MERIT Hydro DEM* assuming a constant depth of the pipe underground of 2 meters. Other default parameters are read from pipes_defaults data.\n",
    "- [setup_manholes](https://deltares.github.io/hydromt_delft3dfm/latest/_generated/hydromt_delft3dfm.DFlowFMModel.setup_manholes.html): for a dflowfm model to be valid, if pipes are defined, then the corresponding should be added as well (careful of the order, setup_manholes can only be called after all elements of the network have been prepared, ie setup_pipes, setup_rivers and/or setup_rivers_from_dem and/or setup_channels). Here we do not have specific input data locations for our pipes, so manholes will be generated based on a set of standards specified in manhole_defaults_fn.\n",
    "- [setup_1dboundary](https://deltares.github.io/hydromt_delft3dfm/latest/_generated/hydromt_delft3dfm.DFlowFMModel.setup_1dboundary.html): finally as a default, we will initialise the upstream and downstream boundaries of our rivers with a constant waterlevel of -2.0 meter a.s.l\n",
    "\n",
    "Feel free to use the links of each components to know more about how each function works and what are all the available settings."
   ]
  },
  {
   "cell_type": "markdown",
   "id": "b0242689",
   "metadata": {},
   "source": [
    "> **NOTE**: \n",
    "  In HydroMT Delft3D FM, there is not a unique region definition. For example, the extent of the 1D river can differ from the extent of the 1D urban network or the 2D inundation grid. For this reason, the user should specify for each of the setup method defining the 1D or 2D grid definition the corresponding region. Also the user should specify the dflowfm model destination CRS in the `global` section in order to allow to use grid definition data (rivers, pipes) from different data sources or CRS. "
   ]
  },
  {
   "cell_type": "markdown",
   "id": "12860ed2",
   "metadata": {},
   "source": [
    "### Building a 1D Delft3D FM model "
   ]
  },
  {
   "cell_type": "code",
   "execution_count": 13,
   "id": "hundred-trailer",
   "metadata": {
    "scrolled": true
   },
   "outputs": [
    {
     "name": "stdout",
     "output_type": "stream",
     "text": [
      "2023-09-22 11:55:05,472 - build - log - DEBUG - Writing log messages to new file C:\\Users\\boisgont\\D\\Repos\\hydromt\\hydromt_delft3dfm\\examples\\build\\dflowfm_1d\\hydromt.log.\n",
      "2023-09-22 11:55:05,472 - build - log - INFO - HydroMT version: 0.8.1.dev0\n",
      "2023-09-22 11:55:05,472 - build - main - INFO - Building instance of dflowfm model at C:\\Users\\boisgont\\D\\Repos\\hydromt\\hydromt_delft3dfm\\examples\\build\\dflowfm_1d.\n",
      "2023-09-22 11:55:05,472 - build - main - INFO - User settings:\n",
      "2023-09-22 11:55:08,401 - build - data_catalog - INFO - Reading data catalog artifact_data v0.0.8 from archive\n",
      "2023-09-22 11:55:08,401 - build - data_catalog - INFO - Parsing data catalog from C:\\Users\\boisgont\\.hydromt_data\\artifact_data\\v0.0.8\\data_catalog.yml\n",
      "2023-09-22 11:55:08,550 - build - model_api - WARNING - Model dir already exists and files might be overwritten: C:\\Users\\boisgont\\D\\Repos\\hydromt\\hydromt_delft3dfm\\examples\\build\\dflowfm_1d\\dflowfm.\n",
      "2023-09-22 11:55:08,550 - build - model_api - WARNING - Model dir already exists and files might be overwritten: C:\\Users\\boisgont\\D\\Repos\\hydromt\\hydromt_delft3dfm\\examples\\build\\dflowfm_1d\\geoms.\n",
      "2023-09-22 11:55:08,550 - build - model_api - INFO - Initializing dflowfm model from hydromt_delft3dfm (v0.1.0).\n",
      "2023-09-22 11:55:08,550 - build - data_catalog - INFO - Parsing data catalog from C:\\Users\\boisgont\\D\\Repos\\hydromt\\hydromt_delft3dfm\\hydromt_delft3dfm\\data\\parameters_data.yml\n",
      "2023-09-22 11:55:08,567 - build - dflowfm - INFO - Initialising empty mdu file\n",
      "2023-09-22 11:55:08,632 - build - dflowfm - INFO - project crs: 3857\n",
      "2023-09-22 11:55:08,634 - build - model_api - INFO - setup_rivers_from_dem.region: {'bbox': [12.4331, 46.4661, 12.5212, 46.5369]}\n",
      "2023-09-22 11:55:08,634 - build - model_api - INFO - setup_rivers_from_dem.hydrography_fn: merit_hydro\n",
      "2023-09-22 11:55:08,634 - build - model_api - INFO - setup_rivers_from_dem.river_geom_fn: rivers_lin2019_v1\n",
      "2023-09-22 11:55:08,634 - build - model_api - INFO - setup_rivers_from_dem.rivers_defaults_fn: rivers_defaults\n",
      "2023-09-22 11:55:08,634 - build - model_api - INFO - setup_rivers_from_dem.rivdph_method: gvf\n",
      "2023-09-22 11:55:08,634 - build - model_api - INFO - setup_rivers_from_dem.rivwth_method: geom\n",
      "2023-09-22 11:55:08,634 - build - model_api - INFO - setup_rivers_from_dem.river_upa: 25.0\n",
      "2023-09-22 11:55:08,635 - build - model_api - INFO - setup_rivers_from_dem.river_len: 1000\n",
      "2023-09-22 11:55:08,635 - build - model_api - INFO - setup_rivers_from_dem.min_rivwth: 50.0\n",
      "2023-09-22 11:55:08,635 - build - model_api - INFO - setup_rivers_from_dem.min_rivdph: 1.0\n",
      "2023-09-22 11:55:08,635 - build - model_api - INFO - setup_rivers_from_dem.rivbank: True\n",
      "2023-09-22 11:55:08,635 - build - model_api - INFO - setup_rivers_from_dem.rivbankq: 25\n",
      "2023-09-22 11:55:08,635 - build - model_api - INFO - setup_rivers_from_dem.segment_length: 3000.0\n",
      "2023-09-22 11:55:08,636 - build - model_api - INFO - setup_rivers_from_dem.smooth_length: 10000.0\n",
      "2023-09-22 11:55:08,636 - build - model_api - INFO - setup_rivers_from_dem.friction_type: Manning\n",
      "2023-09-22 11:55:08,636 - build - model_api - INFO - setup_rivers_from_dem.friction_value: 0.023\n",
      "2023-09-22 11:55:08,636 - build - model_api - INFO - setup_rivers_from_dem.constrain_rivbed: True\n",
      "2023-09-22 11:55:08,636 - build - model_api - INFO - setup_rivers_from_dem.constrain_estuary: True\n",
      "2023-09-22 11:55:08,636 - build - dflowfm - INFO - Preparing river shape from hydrography data.\n",
      "2023-09-22 11:55:08,667 - build - rasterdataset - INFO - Reading merit_hydro raster data from C:\\Users\\boisgont\\.hydromt_data\\artifact_data\\v0.0.8\\merit_hydro\\{variable}.tif\n",
      "2023-09-22 11:55:09,113 - build - rasterdataset - DEBUG - Clip to [12.433, 46.466, 12.521, 46.537] (epsg:4326))\n",
      "2023-09-22 11:55:09,117 - build - geodataframe - INFO - Reading rivers_lin2019_v1 vector data from C:\\Users\\boisgont\\.hydromt_data\\artifact_data\\v0.0.8\\rivers_lin2019_v1.gpkg\n",
      "2023-09-22 11:55:09,769 - build - geodataframe - DEBUG - Clip intersects [1384046.361, 5855359.290, 1393853.608, 5866809.259] (EPSG:3857)\n",
      "2023-09-22 11:55:27,118 - build - dem - INFO - Deriving bankfull river surface elevation from its banks.\n",
      "2023-09-22 11:55:39,347 - build - dem - INFO - Smoothing river width (n=2).\n",
      "2023-09-22 11:55:42,383 - build - dataframe - INFO - Reading rivers_defaults csv data from C:\\Users\\boisgont\\D\\Repos\\hydromt\\hydromt_delft3dfm\\hydromt_delft3dfm\\data\\branches\\rivers_defaults.csv\n",
      "2023-09-22 11:55:42,418 - build - branches - INFO - Processing branches\n",
      "2023-09-22 11:55:42,418 - build - branches - DEBUG - Cleaning up branches\n",
      "2023-09-22 11:55:42,435 - build - branches - DEBUG - Exploding branches.\n",
      "2023-09-22 11:55:42,451 - build - branches - DEBUG - Removing 0 branches which have duplicated geometry.\n",
      "2023-09-22 11:55:42,451 - build - branches - DEBUG - Removing 1 branches that are shorter than 0.1 meter.\n",
      "2023-09-22 11:55:42,467 - build - branches - DEBUG - Renaming 0 id_col duplicates. Convention: BRANCH_1, BRANCH_1 --> BRANCH_1, BRANCH_1-2.\n",
      "2023-09-22 11:55:42,535 - build - branches - DEBUG - Reducing precision of the GeoDataFrame. Rounding precision (e-6) .\n",
      "2023-09-22 11:55:42,535 - build - branches - DEBUG - Performing snapping at all branch ends, excluding intersections (To avoid messy results, please use a lower snap_offset)..\n",
      "2023-09-22 11:55:42,535 - build - branches - DEBUG - Splitting branches based on spacing\n",
      "2023-09-22 11:55:42,568 - build - branches - DEBUG - clipping branches into 5 segments\n",
      "2023-09-22 11:55:42,568 - build - branches - DEBUG - Generating branchnodes\n",
      "2023-09-22 11:55:42,615 - build - branches - INFO - Validating branches\n",
      "2023-09-22 11:55:42,619 - build - crosssections - INFO - Adding/Filling branches attributes values\n",
      "2023-09-22 11:55:42,632 - build - dflowfm - INFO - Preparing crossections from branch.\n",
      "2023-09-22 11:55:42,652 - build - dflowfm - DEBUG - Adding crosssections vector to geoms.\n",
      "2023-09-22 11:55:42,652 - build - dflowfm - DEBUG - Adding rivers and river_nodes vector to geoms.\n",
      "2023-09-22 11:55:42,667 - build - model_api - WARNING - Replacing geom: rivers\n",
      "2023-09-22 11:55:42,685 - build - dflowfm - DEBUG - Adding branches vector to geoms.\n",
      "2023-09-22 11:55:42,685 - build - dflowfm - DEBUG - Updating branches in network.\n",
      "2023-09-22 11:55:42,868 - build - model_api - INFO - setup_pipes.region: {'bbox': [12.4331, 46.4661, 12.5212, 46.5369]}\n",
      "2023-09-22 11:55:42,868 - build - model_api - INFO - setup_pipes.pipes_fn: grip_roads\n",
      "2023-09-22 11:55:42,868 - build - model_api - INFO - setup_pipes.pipes_defaults_fn: pipes_defaults\n",
      "2023-09-22 11:55:42,868 - build - model_api - INFO - setup_pipes.pipe_filter: pipe\n",
      "2023-09-22 11:55:42,868 - build - model_api - INFO - setup_pipes.spacing: 50\n",
      "2023-09-22 11:55:42,868 - build - model_api - INFO - setup_pipes.friction_type: WhiteColeBrook\n",
      "2023-09-22 11:55:42,868 - build - model_api - INFO - setup_pipes.friction_value: 0.003\n",
      "2023-09-22 11:55:42,868 - build - model_api - INFO - setup_pipes.crosssections_shape: circle\n",
      "2023-09-22 11:55:42,868 - build - model_api - INFO - setup_pipes.crosssections_value: 0.5\n",
      "2023-09-22 11:55:42,868 - build - model_api - INFO - setup_pipes.dem_fn: merit_hydro\n",
      "2023-09-22 11:55:42,868 - build - model_api - INFO - setup_pipes.pipes_depth: 2.0\n",
      "2023-09-22 11:55:42,868 - build - model_api - INFO - setup_pipes.pipes_invlev: 3.0\n",
      "2023-09-22 11:55:42,868 - build - model_api - INFO - setup_pipes.snap_offset: 0.5\n",
      "2023-09-22 11:55:42,868 - build - model_api - INFO - setup_pipes.allow_intersection_snapping: True\n",
      "2023-09-22 11:55:42,868 - build - dflowfm - INFO - Preparing 1D pipes.\n",
      "2023-09-22 11:55:42,884 - build - geodataframe - INFO - Reading grip_roads vector data from C:\\Users\\boisgont\\.hydromt_data\\artifact_data\\v0.0.8\\grip_roads.gpkg\n",
      "2023-09-22 11:55:42,934 - build - geodataframe - DEBUG - Clip intersects [1384046.361, 5855359.290, 1393853.608, 5866809.259] (EPSG:3857)\n",
      "2023-09-22 11:55:42,952 - build - dataframe - INFO - Reading pipes_defaults csv data from C:\\Users\\boisgont\\D\\Repos\\hydromt\\hydromt_delft3dfm\\hydromt_delft3dfm\\data\\branches\\pipes_defaults.csv\n",
      "2023-09-22 11:55:42,968 - build - branches - INFO - Processing branches\n",
      "2023-09-22 11:55:42,985 - build - branches - DEBUG - Cleaning up branches\n",
      "2023-09-22 11:55:43,001 - build - branches - DEBUG - Exploding branches.\n",
      "2023-09-22 11:55:43,018 - build - branches - DEBUG - Removing 0 branches which have duplicated geometry.\n",
      "2023-09-22 11:55:43,018 - build - branches - DEBUG - Removing 0 branches that are shorter than 0.1 meter.\n",
      "2023-09-22 11:55:43,068 - build - branches - DEBUG - Renaming 0 id_col duplicates. Convention: BRANCH_1, BRANCH_1 --> BRANCH_1, BRANCH_1-2.\n",
      "2023-09-22 11:55:43,252 - build - branches - DEBUG - Reducing precision of the GeoDataFrame. Rounding precision (e-6) .\n",
      "2023-09-22 11:55:43,268 - build - branches - DEBUG - Performing snapping at all branch ends, including intersections (To avoid messy results, please use a lower snap_offset).\n",
      "2023-09-22 11:55:43,268 - build - branches - DEBUG - Splitting branches based on spacing\n",
      "2023-09-22 11:55:50,160 - build - branches - DEBUG - clipping branches into 2826 segments\n",
      "2023-09-22 11:55:50,160 - build - branches - DEBUG - Generating branchnodes\n",
      "2023-09-22 11:55:52,002 - build - branches - INFO - Validating branches\n",
      "2023-09-22 11:55:52,009 - build - crosssections - INFO - Adding/Filling branches attributes values\n",
      "2023-09-22 11:55:52,068 - build - dflowfm - INFO - grip_roads does not have columns [invlev_up, invlev_dn]. Invert levels will be generated from dem_fn or default value 3.0\n",
      "2023-09-22 11:55:52,068 - build - rasterdataset - INFO - Reading merit_hydro raster data from C:\\Users\\boisgont\\.hydromt_data\\artifact_data\\v0.0.8\\merit_hydro\\{variable}.tif\n",
      "2023-09-22 11:55:52,112 - build - rasterdataset - DEBUG - Clip to [12.433, 46.466, 12.521, 46.537] (epsg:4326))\n",
      "2023-09-22 11:55:52,920 - build - dflowfm - INFO - Preparing crossections from branch.\n",
      "2023-09-22 11:55:53,480 - build - dflowfm - DEBUG - Adding crosssections vector to geoms.\n",
      "2023-09-22 11:55:53,647 - build - model_api - WARNING - Replacing geom: crosssections\n",
      "2023-09-22 11:55:53,647 - build - dflowfm - DEBUG - Adding pipes and pipe_nodes vector to geoms.\n",
      "2023-09-22 11:55:55,490 - build - model_api - WARNING - Replacing geom: rivers\n",
      "2023-09-22 11:55:55,503 - build - model_api - WARNING - Replacing geom: pipes\n",
      "2023-09-22 11:55:55,503 - build - dflowfm - DEBUG - Adding branches vector to geoms.\n",
      "2023-09-22 11:55:55,503 - build - model_api - WARNING - Replacing geom: branches\n",
      "2023-09-22 11:55:55,503 - build - dflowfm - DEBUG - Updating branches in network.\n",
      "2023-09-22 11:55:58,006 - build - model_mesh - WARNING - Overwriting grid network1d and the corresponding data variables in mesh.\n",
      "2023-09-22 11:55:58,121 - build - model_mesh - WARNING - Overwriting grid mesh1d and the corresponding data variables in mesh.\n",
      "2023-09-22 11:55:58,775 - build - model_api - WARNING - Replacing geom: boundaries\n",
      "2023-09-22 11:55:58,776 - build - model_api - INFO - setup_manholes.manholes_fn: None\n",
      "2023-09-22 11:55:58,776 - build - model_api - INFO - setup_manholes.manhole_defaults_fn: manholes_defaults\n",
      "2023-09-22 11:55:58,776 - build - model_api - INFO - setup_manholes.bedlevel_shift: 0.5\n",
      "2023-09-22 11:55:58,777 - build - model_api - INFO - setup_manholes.dem_fn: merit_hydro\n",
      "2023-09-22 11:55:58,777 - build - model_api - INFO - setup_manholes.snap_offset: 0.001\n",
      "2023-09-22 11:55:58,777 - build - dflowfm - INFO - generating manholes locations and bedlevels. \n",
      "2023-09-22 11:55:58,777 - build - manholes - INFO - Generating manholes on pipes and/or tunnels\n",
      "2023-09-22 11:55:59,644 - build - manholes - INFO - Shifting manholes bedlevels based on bedlevel_shift = 0.5\n",
      "2023-09-22 11:56:00,306 - build - model_api - WARNING - Replacing geom: rivers\n",
      "2023-09-22 11:56:00,337 - build - model_api - WARNING - Replacing geom: pipes\n",
      "2023-09-22 11:56:00,338 - build - dflowfm - DEBUG - Adding branches vector to geoms.\n",
      "2023-09-22 11:56:00,338 - build - model_api - WARNING - Replacing geom: branches\n",
      "2023-09-22 11:56:00,338 - build - dflowfm - DEBUG - Updating branches in network.\n",
      "2023-09-22 11:56:00,341 - build - dataframe - INFO - Reading manholes_defaults csv data from C:\\Users\\boisgont\\D\\Repos\\hydromt\\hydromt_delft3dfm\\hydromt_delft3dfm\\data\\storages\\manholes_defaults.csv\n",
      "2023-09-22 11:56:00,401 - build - dflowfm - INFO - overwriting manholes street level from dem. \n",
      "2023-09-22 11:56:00,401 - build - rasterdataset - INFO - Reading merit_hydro raster data from C:\\Users\\boisgont\\.hydromt_data\\artifact_data\\v0.0.8\\merit_hydro\\{variable}.tif\n",
      "2023-09-22 11:56:00,440 - build - rasterdataset - DEBUG - Clip to [12.425, 46.460, 12.529, 46.545] (epsg:4326))\n",
      "2023-09-22 11:56:00,485 - build - dflowfm - DEBUG - street level mean is 863.6583862304688\n",
      "2023-09-22 11:56:00,485 - build - dflowfm - DEBUG - dropping duplicated manholeid\n",
      "2023-09-22 11:56:00,619 - build - dflowfm - DEBUG - Adding manholes vector to geoms.\n",
      "2023-09-22 11:56:00,619 - build - model_api - INFO - setup_1dboundary.boundaries_geodataset_fn: None\n",
      "2023-09-22 11:56:00,619 - build - model_api - INFO - setup_1dboundary.boundaries_timeseries_fn: None\n",
      "2023-09-22 11:56:00,619 - build - model_api - INFO - setup_1dboundary.boundary_value: -2.0\n",
      "2023-09-22 11:56:00,619 - build - model_api - INFO - setup_1dboundary.branch_type: river\n",
      "2023-09-22 11:56:00,619 - build - model_api - INFO - setup_1dboundary.boundary_type: waterlevel\n",
      "2023-09-22 11:56:00,619 - build - model_api - INFO - setup_1dboundary.boundary_unit: m\n",
      "2023-09-22 11:56:00,619 - build - model_api - INFO - setup_1dboundary.boundary_locs: both\n",
      "2023-09-22 11:56:00,619 - build - model_api - INFO - setup_1dboundary.snap_offset: 1.0\n",
      "2023-09-22 11:56:00,619 - build - dflowfm - INFO - Preparing 1D waterlevel boundaries for river.\n",
      "2023-09-22 11:56:01,219 - build - boundaries - INFO - Using constant value -2.0 m for all waterlevel boundaries.\n",
      "2023-09-22 11:56:01,219 - build - dflowfm - INFO - Writing model data to C:\\Users\\boisgont\\D\\Repos\\hydromt\\hydromt_delft3dfm\\examples\\build\\dflowfm_1d\n",
      "2023-09-22 11:56:01,239 - build - model_api - DEBUG - Writing file geoms/crosssections.geojson\n",
      "2023-09-22 11:56:02,320 - build - model_api - DEBUG - Writing file geoms/rivers.geojson\n",
      "2023-09-22 11:56:02,353 - build - model_api - DEBUG - Writing file geoms/rivers_nodes.geojson\n",
      "2023-09-22 11:56:02,387 - build - model_api - DEBUG - Writing file geoms/branches.geojson\n",
      "2023-09-22 11:56:02,943 - build - model_api - DEBUG - Writing file geoms/boundaries.geojson\n",
      "2023-09-22 11:56:02,998 - build - model_api - DEBUG - Writing file geoms/pipes.geojson\n",
      "2023-09-22 11:56:03,625 - build - model_api - DEBUG - Writing file geoms/pipe_nodes.geojson\n",
      "2023-09-22 11:56:04,388 - build - model_api - DEBUG - Writing file geoms/region.geojson\n",
      "2023-09-22 11:56:04,406 - build - model_api - DEBUG - Writing file geoms/manholes.geojson\n",
      "2023-09-22 11:56:04,922 - build - model_api - DEBUG - Writing file geoms/network1d.geojson\n",
      "2023-09-22 11:56:05,156 - build - model_api - DEBUG - Writing file geoms/mesh1d.geojson\n",
      "2023-09-22 11:56:05,741 - build - dflowfm - INFO - Writting cross-sections files crsdef and crsloc\n",
      "2023-09-22 11:56:06,863 - build - dflowfm - INFO - Writting friction file(s)\n",
      "2023-09-22 11:56:06,877 - build - dflowfm - INFO - Writting manholes file.\n",
      "2023-09-22 11:56:08,465 - build - dflowfm - INFO - Writting branches.gui file\n",
      "2023-09-22 11:56:09,051 - build - dflowfm - INFO - Writting forcing files.\n",
      "2023-09-22 11:56:11,690 - build - dflowfm - INFO - Initialising empty dimr file\n",
      "2023-09-22 11:56:11,690 - build - dflowfm - INFO - Adding dflowfm component to dimr config\n",
      "2023-09-22 11:56:11,690 - build - dflowfm - INFO - Writing model dimr file to C:\\Users\\boisgont\\D\\Repos\\hydromt\\hydromt_delft3dfm\\examples\\build\\dflowfm_1d\\dimr_config.xml\n"
     ]
    },
    {
     "name": "stderr",
     "output_type": "stream",
     "text": [
      "INFO:build:Initialising empty dimr file\n",
      "INFO:build:Adding dflowfm component to dimr config\n",
      "INFO:build:Writing model dimr file to C:\\Users\\boisgont\\D\\Repos\\hydromt\\hydromt_delft3dfm\\examples\\build\\dflowfm_1d\\dimr_config.xml\n"
     ]
    }
   ],
   "source": [
    "# NOTE: copy this line (without !) to your shell for more direct feedback - should take about 1 minute or 2 to run\n",
    "!hydromt build dflowfm \"./build/dflowfm_1d\" -i dflowfm_build1d.yml -d artifact_data --fo -vv"
   ]
  },
  {
   "cell_type": "markdown",
   "id": "b31e92d2",
   "metadata": {},
   "source": [
    "The example above means the following: run **hydromt build** with:\n",
    "\n",
    "* `dflowfm` : i.e. build a FM model\n",
    "* `./build/dflowfm_1d` : output model folder\n",
    "* `-i dflowfm_build1d.yml`: model build configuration file\n",
    "* `-d artifact_data`: data catalog to use. Here the default artifact data catalog with global data for Northern Italy.\n",
    "* `--fo`: force overwritting in case a model already exists in the output folder.\n",
    "* `-vv` : give some extra verbosity (2 * v) to display feedback on screen. Now debug and info messages are provided rather than only warnings and errors.\n",
    "\n",
    "> NOTE: We did not specify a region `-r` as with dflowfm, the region is specific to each of the 1D network elements we would like to add, in this example rivers and pipes.\n",
    "\n",
    "> NOTE: You can use as many data catalogs as you need within the same command line, by repeating the `-d` options and name of the catalog to use several times."
   ]
  },
  {
   "cell_type": "markdown",
   "id": "2eed76e4",
   "metadata": {},
   "source": [
    "Next we check which files have been created. The model root should contain three files and three folders:\n",
    "\n",
    "- dimr_config.xml: DIMR file to execute Delft3D FM from command line.\n",
    "- hydromt.log and hydromt_data.yml: information saved by HydroMT on model build settings and used datasets for reproducibility\n",
    "- **dflowfm** folder: dflowfm files, here for our 1D model. Contains all necessary information to run a 1D model including the mesh1d, roughness, cross-sections, 1D boundary forcing.   The configuration MDU file is also created as well as a *.gui* file to visualize the 1D network in the Delft3D FM GUI.\n",
    "- **geoms** folder: folder containing a copy of the dflowfm data in an easily readable GIS format rather than the ini or UGRID netcdf file.\n",
    "- **maps** folder: folder containing regular gridded data that Delft3D FM can interpolate to the 2D mesh grid. Here empty as we have a 1D model only."
   ]
  },
  {
   "cell_type": "code",
   "execution_count": 14,
   "id": "wireless-style",
   "metadata": {},
   "outputs": [
    {
     "name": "stdout",
     "output_type": "stream",
     "text": [
      "./build/dflowfm_1d/\n",
      " - dimr_config.xml\n",
      " - hydromt.log\n",
      " - hydromt_data.yml\n",
      "./build/dflowfm_1d/dflowfm\n",
      " - bnd.ext\n",
      " - boundaryconditions1d_waterlevelbnd.bc\n",
      " - branches.gui\n",
      " - crsdef.ini\n",
      " - crsloc.ini\n",
      " - DFlowFM.mdu\n",
      " - fm_net.nc\n",
      " - nodeFile.ini\n",
      " - roughness_M-0p023.ini\n",
      " - roughness_W-0p003.ini\n",
      "./build/dflowfm_1d/geoms\n",
      " - boundaries.geojson\n",
      " - branches.geojson\n",
      " - crosssections.geojson\n",
      " - manholes.geojson\n",
      " - mesh1d.geojson\n",
      " - network1d.geojson\n",
      " - pipes.geojson\n",
      " - pipe_nodes.geojson\n",
      " - region.geojson\n",
      " - rivers.geojson\n",
      " - rivers_nodes.geojson\n",
      "./build/dflowfm_1d/maps\n",
      "./build/dflowfm_1d/mesh\n"
     ]
    }
   ],
   "source": [
    "import os\n",
    "\n",
    "root = \"./build/dflowfm_1d/\"\n",
    "for path, _, files in os.walk(root):\n",
    "    print(path)\n",
    "    for name in files:\n",
    "        print(f\" - {name}\")"
   ]
  },
  {
   "cell_type": "markdown",
   "id": "adef7fa1",
   "metadata": {},
   "source": [
    "### Visualize and/or inspect model schematization"
   ]
  },
  {
   "cell_type": "markdown",
   "id": "20ce9df3",
   "metadata": {},
   "source": [
    "* The **dflowfm plot** example notebook contains scripts to visualize your model."
   ]
  }
 ],
 "metadata": {
  "kernelspec": {
   "display_name": "waterbom",
   "language": "python",
   "name": "python3"
  },
  "language_info": {
   "codemirror_mode": {
    "name": "ipython",
    "version": 3
   },
   "file_extension": ".py",
   "mimetype": "text/x-python",
   "name": "python",
   "nbconvert_exporter": "python",
   "pygments_lexer": "ipython3",
   "version": "3.9.16"
  },
  "vscode": {
   "interpreter": {
    "hash": "5fda536963eae36dbaef69f7df44483d2713515b4e134e53fb983ec0eb9438d0"
   }
  }
 },
 "nbformat": 4,
 "nbformat_minor": 5
}
