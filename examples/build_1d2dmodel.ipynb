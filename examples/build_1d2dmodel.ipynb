{
 "cells": [
  {
   "cell_type": "markdown",
   "id": "9a73590b",
   "metadata": {},
   "source": [
    "## Build a Delft3D FM 1D2D model from scratch"
   ]
  },
  {
   "cell_type": "markdown",
   "id": "ee510c6e",
   "metadata": {},
   "source": [
    "This notebook demonstrates how to prepare a **1D2D Delft3D FM** model from scratch using the command line interace (CLI). \n",
    "\n",
    "We will combine elements that were prepared in the *Build 1D model* and *Build 2D model* notebooks, so we advise you to have a look at these before starting this one."
   ]
  },
  {
   "cell_type": "markdown",
   "id": "6b96aa15",
   "metadata": {},
   "source": [
    "All lines in this notebook which start with `!` are executed from the command line. Within the notebook environment the logging messages are shown after completion. You can also copy these lines and paste these in your shell to get more direct feedback."
   ]
  },
  {
   "cell_type": "markdown",
   "id": "451c8168",
   "metadata": {},
   "source": [
    "### HydroMT CLI build interface"
   ]
  },
  {
   "cell_type": "markdown",
   "id": "2c70853e",
   "metadata": {},
   "source": [
    "Lets first check if the Delft3D FM model is recognized by HydroMT:"
   ]
  },
  {
   "cell_type": "code",
   "execution_count": null,
   "id": "40470302",
   "metadata": {},
   "outputs": [],
   "source": [
    "# this should return \"dflowfm\" to build DFlowFM components of Delft3D FM\n",
    "# as well as the generic HydroMT models \"grid_model, lumped_model, mesh_model, network_model\"\n",
    "!hydromt --models"
   ]
  },
  {
   "cell_type": "markdown",
   "id": "7d9b5a20",
   "metadata": {},
   "source": [
    "Using the **HydroMT build** API we can setup a complete model from scratch. Let's get an overview of all the available options:"
   ]
  },
  {
   "cell_type": "code",
   "execution_count": null,
   "id": "1d39e4a1",
   "metadata": {},
   "outputs": [],
   "source": [
    "!hydromt build --help"
   ]
  },
  {
   "cell_type": "markdown",
   "id": "7584dcae",
   "metadata": {},
   "source": [
    "### Data for model setup"
   ]
  },
  {
   "cell_type": "markdown",
   "id": "dad35651",
   "metadata": {},
   "source": [
    "Most of the time, the `<...>_fn` arguments correspond to a data source from the `DataCatalog` which is based on a yml-file with references to the data paths/urls and how the data should be read. This file can be provided to hydromt using `-d <path_to_yml_file>`. \n",
    "\n",
    "By default, the pre-defined `artifact_data` catalog containing some example data for the Piave basin will be downloaded to `~/.hydromt_data/` which is also used for this example. An overview of the available example data is provided [here](https://deltares.github.io/hydromt/latest/user_guide/data_existing_cat.html).\n",
    "This example data is a based on the data which is available from the Deltares p-drive. \n",
    "If you have acces to this drive, a pre-configured catalog file can be loaded using the `-d deltares_data` pre-defined catalog. \n",
    "\n",
    "More information on how to write a data catalog yml file can be found in the [HydroMT core docs](https://deltares.github.io/hydromt/latest/user_guide/data_prepare_cat.html) \n",
    "\n",
    "> **NOTE**: In HydroMT-Delft3D FM, an additionnal data catalog with all default parameters values is always used [parameters_data.yml](https://github.com/Deltares/hydromt_delft3dfm/blob/54-examples/hydromt_delft3dfm/data/parameters_data.yml). It contains default values for 1D network elements and structures as well as default 2D landuse paramter mapping tables."
   ]
  },
  {
   "cell_type": "markdown",
   "id": "ebd31242",
   "metadata": {},
   "source": [
    "### Model setup configuration"
   ]
  },
  {
   "cell_type": "markdown",
   "id": "fb8282c9",
   "metadata": {},
   "source": [
    "The HydroMT configuration file contains the model setup configuration and determines which methods are used to prepare the different components of a Delft3D FM model and in which order and optionally sets non-default arguments for each method. This configuration is passed to HydroMT using `-i <path_to_configuration_file>`. The supported format are either YAML or INI. We have prepared several example yml-files which are available in the model repository [examples folder](https://github.com/Deltares/hydromt_delft3dfm/tree/main/examples) and from the [docs (building a model)](https://deltares.github.io/hydromt_delft3dfm/latest/user_guide/dflowfm_build). \n",
    "\n",
    "Each section, before indent, (e.g. setup_rivers_from_dem) corresponds to a model method. All model methods are explained in the [docs (model components)](https://deltares.github.io/hydromt_delft3dfm/latest/user_guide/dflowfm_model_setup.html). The `global` section contains direct model initialisation properties."
   ]
  },
  {
   "cell_type": "markdown",
   "id": "cc3fd44d",
   "metadata": {},
   "source": [
    "We will load the default dflowfm build 1D2D yaml file for inspection:"
   ]
  },
  {
   "cell_type": "code",
   "execution_count": 1,
   "id": "e88d4aed",
   "metadata": {},
   "outputs": [
    {
     "name": "stdout",
     "output_type": "stream",
     "text": [
      "global:\n",
      "  crs: 3857\n",
      "  network_snap_offset: 25\n",
      "  openwater_computation_node_distance: 40\n",
      "\n",
      "setup_rivers_from_dem:\n",
      "  region: \n",
      "    bbox: [12.4331, 46.4661, 12.5212, 46.5369]\n",
      "  hydrography_fn: merit_hydro\n",
      "  river_geom_fn: rivers_lin2019_v1\n",
      "  rivers_defaults_fn: rivers_defaults\n",
      "  rivdph_method: gvf\n",
      "  rivwth_method: geom\n",
      "  river_upa: 25.0\n",
      "  friction_type: \"Manning\"\n",
      "  friction_value: 0.023\n",
      "  rivbankq: 25\n",
      "\n",
      "setup_pipes:\n",
      "  region: \n",
      "    bbox: [12.4331, 46.4661, 12.5212, 46.5369]\n",
      "  pipes_fn: grip_roads\n",
      "  pipes_defaults_fn: pipes_defaults\n",
      "  pipe_filter: pipe\n",
      "  spacing: 50\n",
      "  friction_type: WhiteColeBrook\n",
      "  friction_value: 0.003\n",
      "  crosssections_shape: circle\n",
      "  crosssections_value: 0.5\n",
      "  dem_fn: merit_hydro # [copdem30, merit]\n",
      "  pipes_depth: 2.0\n",
      "  snap_offset: 0.5\n",
      "  pipes_invlev: 3. \n",
      "\n",
      "setup_manholes:\n",
      "  manholes_fn:\n",
      "  manhole_defaults_fn: manholes_defaults\n",
      "  dem_fn: merit_hydro\n",
      "  bedlevel_shift: 0.5\n",
      "\n",
      "setup_1dboundary:\n",
      "  boundary_value: -2.0\n",
      "  branch_type: river\n",
      "  boundary_type: waterlevel\n",
      "  boundary_unit: m\n",
      "  boundary_locs: both\n",
      "\n",
      "setup_mesh2d:\n",
      "  region: \n",
      "    bbox: [12.4331, 46.4661, 12.5212, 46.5369]\n",
      "  res: 500\n",
      "\n",
      "setup_maps_from_rasterdataset:\n",
      "  raster_fn: merit_hydro\n",
      "  variables: [\"elevtn\"]\n",
      "  fill_method: nearest\n",
      "  interpolation_method: nearestNb\n",
      "\n",
      "setup_maps_from_raster_reclass:\n",
      "  raster_fn: vito\n",
      "  reclass_table_fn: vito_mapping\n",
      "  reclass_variables: ['roughness_manning', 'infiltcap']\n",
      "  interpolation_method: triangulation\n",
      "\n",
      "setup_rainfall_from_constant:\n",
      "  constant_value: 150\n",
      "\n",
      "setup_link1d2d:\n",
      "  link_direction: 1d_to_2d\n"
     ]
    }
   ],
   "source": [
    "fn_yml = \"dflowfm_build.yml\"\n",
    "with open(fn_yml, \"r\") as f:\n",
    "    txt = f.read()\n",
    "print(txt)"
   ]
  },
  {
   "cell_type": "markdown",
   "id": "9607a239",
   "metadata": {},
   "source": [
    "Looking at this file, you see that we will prepare the following information for our model:\n",
    "\n",
    "- [global](https://deltares.github.io/hydromt_delft3dfm/latest/_generated/hydromt_delft3dfm.DFlowFMModel.html#hydromt_delft3dfm.DFlowFMModel): Our model will be defined in the projected CRS WGS84 EPSG 3857. TO ensure the 1D network is connected, we will allow snapping of 25 meters using argument network_snap_offset. The 1D computational grid for the open water system will be created at 40 meters distance using argument openwater_computation_node_distance. \n",
    "\n",
    "- [setup_rivers_from_dem](https://deltares.github.io/hydromt_delft3dfm/latest/_generated/hydromt_delft3dfm.DFlowFMModel.setup_rivers_from_dem.html): We will derive the 1D rivers lines based on the *MERIT Hydro DEM* and that intersects with the region bounding box [12.4331, 46.4661, 12.5212, 46.5369]. River roughness will be a Manning constant of 25.0 and we will use data from *rivers_lin2019* database to prepare rectangular cross-sections. \n",
    "- [setup_pipes](https://deltares.github.io/hydromt_delft3dfm/latest/_generated/hydromt_delft3dfm.DFlowFMModel.setup_pipes.html): We will add pipes by assuming that they are located under the roads, with a standard length of 50 meters. The roads are defined in the *grip_roads* data and the standard length are defined in the argument spacing. Roughness will be a WhiteColeBrook constant of 0.003 and we will use a circular cross-sections of 0.5m. The pipes invert levels will be derived from the *MERIT Hydro DEM* assuming a constant depth of the pipe underground of 2 meters. \n",
    "- [setup_manholes](https://deltares.github.io/hydromt_delft3dfm/latest/_generated/hydromt_delft3dfm.DFlowFMModel.setup_manholes.html): For a pipe network, manholes are present at pipe connections. Here we do not have specific input data locations for our pipes, so manholes will be generated based on a set of standards specified in manhole_defaults_fn.\n",
    "- [setup_1dboundary](https://deltares.github.io/hydromt_delft3dfm/latest/_generated/hydromt_delft3dfm.DFlowFMModel.setup_1dboundary.html): Finally as a default, we will apply both upstream and downstream boundaries of our rivers with a constant waterlevel of -2.0 meter a.s.l\n",
    "\n",
    "- [setup_mesh2d](https://deltares.github.io/hydromt_delft3dfm/latest/_generated/hydromt_delft3dfm.DFlowFMModel.setup_mesh2d.html): we will prepare a regular grid for the region bounding box [12.4331, 46.4661, 12.5212, 46.5369] of *500***500* meters resolution.\n",
    "- [setup_maps_from_rasterdataset](https://deltares.github.io/hydromt_delft3dfm/latest/_generated/hydromt_delft3dfm.DFlowFMModel.setup_maps_from_rasterdataset.html): prepares gridded elevation (bedlevel) from *merit_hydro*. Here elevation is extracted from *merit_hydro* and any no data is filled using *nearest* method. When running, the Delft3D FM kernel will interpolate it to the mesh 2D grid using the *nearestNb* method.\n",
    "- [setup_maps_from_raster_reclass](https://deltares.github.io/hydromt_delft3dfm/latest/_generated/hydromt_delft3dfm.DFlowFMModel.setup_maps_from_raster_reclass.html): prepares gridded Manning roughness and infiltration capacity data from landuse, by reclassifying the landuse categories in *vito* landuse data, using parameters values defined per landuse category in *vito_mapping* table. When running, the Delft3D FM kernel will interpolate it to the mesh 2D grid using the *triangulation* method.\n",
    "- [setup_rainfall_from_constant](https://deltares.github.io/hydromt_delft3dfm/latest/_generated/hydromt_delft3dfm.DFlowFMModel.setup_rainfall_from_constant.html): prepares a constant rainfall rate of *150* mm/day as meteo forcing to the model. \n",
    "Feel free to use the links of each components to know more about how each function works and what are all the available settings.\n",
    "Additionnally to a 1D or 2D models only, we have now added a new method:\n",
    "\n",
    "- [setup_link1d2d](https://deltares.github.io/hydromt_delft3dfm/latest/_generated/hydromt_delft3dfm.DFlowFMModel.setup_link1d2d.html): we will link our 1D and 2D mesh by setting up links from the 1D network to the 2D grid. As you can imagine, this function can only be run once both the schematisation of the 1D and the 2D grids are finalized. If any change is made to the 1D or the 2D grid, this funcion should be run again.\n",
    "\n",
    "Feel free to use the links of each components to know more about how each function works and what are all the available settings."
   ]
  },
  {
   "cell_type": "markdown",
   "id": "b0242689",
   "metadata": {},
   "source": [
    "> **NOTE**: \n",
    "  In this example, we apply region argument in setup_rivers_from_dem, setup_pipes and setup_mesh2d. They are identical in this example but one can alter them to have different region for rivers, for pipes and for 2dmesh. This allows the user to customize their model as much as possible, as the extent of the 1D river can differ from the extent of the 1D urban network or the 2D inundation grid. The region bbox are in WGS 84 as required, but the user should specify the dflowfm model destination CRS in the `global` section in order to allow to use grid definition data (rivers, pipes) from different data sources or CRS. "
   ]
  },
  {
   "cell_type": "markdown",
   "id": "12860ed2",
   "metadata": {},
   "source": [
    "### Building a 1D2D Delft3D FM model"
   ]
  },
  {
   "cell_type": "code",
   "execution_count": 2,
   "id": "hundred-trailer",
   "metadata": {
    "scrolled": true
   },
   "outputs": [
    {
     "name": "stdout",
     "output_type": "stream",
     "text": [
      "2023-10-17 15:33:04,419 - build - log - DEBUG - Writing log messages to new file C:\\Developments\\hydromt_delft3dfm\\examples\\build\\dflowfm_1d2d\\hydromt.log.\n",
      "2023-10-17 15:33:04,419 - build - log - INFO - HydroMT version: 0.8.1.dev0\n",
      "2023-10-17 15:33:04,419 - build - main - INFO - Building instance of dflowfm model at C:\\Developments\\hydromt_delft3dfm\\examples\\build\\dflowfm_1d2d.\n",
      "2023-10-17 15:33:04,419 - build - main - INFO - User settings:\n",
      "2023-10-17 15:33:05,378 - build - data_catalog - INFO - Reading data catalog archive artifact_data v0.0.8\n",
      "2023-10-17 15:33:05,378 - build - data_catalog - INFO - Parsing data catalog from C:\\Users\\li_xn\\.hydromt_data\\artifact_data\\v0.0.8\\data_catalog.yml\n",
      "2023-10-17 15:33:05,448 - build - model_api - INFO - Initializing dflowfm model from hydromt_delft3dfm (v0.1.1).\n",
      "2023-10-17 15:33:05,449 - build - data_catalog - INFO - Parsing data catalog from c:\\Users\\li_xn\\AppData\\Local\\anaconda3\\envs\\hydromt-delft3dfm-v0.1.1\\lib\\site-packages\\hydromt_delft3dfm\\data\\parameters_data.yml\n",
      "2023-10-17 15:33:05,454 - build - dflowfm - INFO - Initialising empty mdu file\n",
      "2023-10-17 15:33:05,457 - build - dflowfm - INFO - project crs: 3857\n",
      "2023-10-17 15:33:05,458 - build - model_api - INFO - setup_rivers_from_dem.region: {'bbox': [12.4331, 46.4661, 12.5212, 46.5369]}\n",
      "2023-10-17 15:33:05,458 - build - model_api - INFO - setup_rivers_from_dem.hydrography_fn: merit_hydro\n",
      "2023-10-17 15:33:05,458 - build - model_api - INFO - setup_rivers_from_dem.river_geom_fn: rivers_lin2019_v1\n",
      "2023-10-17 15:33:05,458 - build - model_api - INFO - setup_rivers_from_dem.rivers_defaults_fn: rivers_defaults\n",
      "2023-10-17 15:33:05,458 - build - model_api - INFO - setup_rivers_from_dem.rivdph_method: gvf\n",
      "2023-10-17 15:33:05,458 - build - model_api - INFO - setup_rivers_from_dem.rivwth_method: geom\n",
      "2023-10-17 15:33:05,458 - build - model_api - INFO - setup_rivers_from_dem.river_upa: 25.0\n",
      "2023-10-17 15:33:05,458 - build - model_api - INFO - setup_rivers_from_dem.river_len: 1000\n",
      "2023-10-17 15:33:05,458 - build - model_api - INFO - setup_rivers_from_dem.min_rivwth: 50.0\n",
      "2023-10-17 15:33:05,458 - build - model_api - INFO - setup_rivers_from_dem.min_rivdph: 1.0\n",
      "2023-10-17 15:33:05,458 - build - model_api - INFO - setup_rivers_from_dem.rivbank: True\n",
      "2023-10-17 15:33:05,458 - build - model_api - INFO - setup_rivers_from_dem.rivbankq: 25\n",
      "2023-10-17 15:33:05,458 - build - model_api - INFO - setup_rivers_from_dem.segment_length: 3000.0\n",
      "2023-10-17 15:33:05,458 - build - model_api - INFO - setup_rivers_from_dem.smooth_length: 10000.0\n",
      "2023-10-17 15:33:05,458 - build - model_api - INFO - setup_rivers_from_dem.friction_type: Manning\n",
      "2023-10-17 15:33:05,458 - build - model_api - INFO - setup_rivers_from_dem.friction_value: 0.023\n",
      "2023-10-17 15:33:05,460 - build - model_api - INFO - setup_rivers_from_dem.constrain_rivbed: True\n",
      "2023-10-17 15:33:05,460 - build - model_api - INFO - setup_rivers_from_dem.constrain_estuary: True\n",
      "2023-10-17 15:33:05,460 - build - dflowfm - INFO - Preparing river shape from hydrography data.\n",
      "2023-10-17 15:33:05,470 - build - rasterdataset - INFO - Reading merit_hydro raster data from C:\\Users\\li_xn\\.hydromt_data\\artifact_data\\v0.0.8\\merit_hydro\\{variable}.tif\n",
      "2023-10-17 15:33:05,605 - build - rasterdataset - DEBUG - Clip to [12.433, 46.466, 12.521, 46.537] (epsg:4326))\n",
      "2023-10-17 15:33:05,607 - build - geodataframe - INFO - Reading rivers_lin2019_v1 vector data from C:\\Users\\li_xn\\.hydromt_data\\artifact_data\\v0.0.8\\rivers_lin2019_v1.gpkg\n",
      "2023-10-17 15:33:05,647 - build - geodataframe - DEBUG - Clip intersects [1384046.361, 5855359.290, 1393853.608, 5866809.259] (EPSG:3857)\n",
      "2023-10-17 15:33:12,156 - build - dem - INFO - Deriving bankfull river surface elevation from its banks.\n",
      "2023-10-17 15:33:17,067 - build - dem - INFO - Smoothing river width (n=2).\n",
      "2023-10-17 15:33:18,384 - build - dataframe - INFO - Reading rivers_defaults csv data from c:\\Users\\li_xn\\AppData\\Local\\anaconda3\\envs\\hydromt-delft3dfm-v0.1.1\\lib\\site-packages\\hydromt_delft3dfm\\data\\branches\\rivers_defaults.csv\n",
      "2023-10-17 15:33:18,399 - build - branches - INFO - Processing branches\n",
      "2023-10-17 15:33:18,399 - build - branches - DEBUG - Cleaning up branches\n",
      "2023-10-17 15:33:18,404 - build - branches - DEBUG - Exploding branches.\n",
      "2023-10-17 15:33:18,405 - build - branches - DEBUG - Removing 0 branches which have duplicated geometry.\n",
      "2023-10-17 15:33:18,406 - build - branches - DEBUG - Removing 1 branches that are shorter than 0.1 meter.\n",
      "2023-10-17 15:33:18,411 - build - branches - DEBUG - Renaming 0 id_col duplicates. Convention: BRANCH_1, BRANCH_1 --> BRANCH_1, BRANCH_1-2.\n",
      "2023-10-17 15:33:18,419 - build - branches - DEBUG - Reducing precision of the GeoDataFrame. Rounding precision (e-6) .\n",
      "2023-10-17 15:33:18,420 - build - branches - DEBUG - Performing snapping at all branch ends, excluding intersections (To avoid messy results, please use a lower snap_offset)..\n",
      "2023-10-17 15:33:18,421 - build - branches - DEBUG - Splitting branches based on spacing\n",
      "2023-10-17 15:33:18,423 - build - branches - DEBUG - clipping branches into 5 segments\n",
      "2023-10-17 15:33:18,424 - build - branches - DEBUG - Generating branchnodes\n",
      "2023-10-17 15:33:18,432 - build - branches - INFO - Validating branches\n",
      "2023-10-17 15:33:18,435 - build - crosssections - INFO - Adding/Filling branches attributes values\n",
      "2023-10-17 15:33:18,438 - build - dflowfm - INFO - Preparing crossections from branch.\n",
      "2023-10-17 15:33:18,448 - build - dflowfm - DEBUG - Adding crosssections vector to geoms.\n",
      "2023-10-17 15:33:18,448 - build - dflowfm - DEBUG - Adding rivers and river_nodes vector to geoms.\n",
      "2023-10-17 15:33:18,453 - build - model_api - WARNING - Replacing geom: rivers\n",
      "2023-10-17 15:33:18,454 - build - dflowfm - DEBUG - Adding branches vector to geoms.\n",
      "2023-10-17 15:33:18,454 - build - dflowfm - DEBUG - Updating branches in network.\n",
      "2023-10-17 15:33:18,539 - build - model_api - INFO - setup_pipes.region: {'bbox': [12.4331, 46.4661, 12.5212, 46.5369]}\n",
      "2023-10-17 15:33:18,539 - build - model_api - INFO - setup_pipes.pipes_fn: grip_roads\n",
      "2023-10-17 15:33:18,539 - build - model_api - INFO - setup_pipes.pipes_defaults_fn: pipes_defaults\n",
      "2023-10-17 15:33:18,539 - build - model_api - INFO - setup_pipes.pipe_filter: pipe\n",
      "2023-10-17 15:33:18,539 - build - model_api - INFO - setup_pipes.spacing: 50\n",
      "2023-10-17 15:33:18,539 - build - model_api - INFO - setup_pipes.friction_type: WhiteColeBrook\n",
      "2023-10-17 15:33:18,539 - build - model_api - INFO - setup_pipes.friction_value: 0.003\n",
      "2023-10-17 15:33:18,539 - build - model_api - INFO - setup_pipes.crosssections_shape: circle\n",
      "2023-10-17 15:33:18,539 - build - model_api - INFO - setup_pipes.crosssections_value: 0.5\n",
      "2023-10-17 15:33:18,539 - build - model_api - INFO - setup_pipes.dem_fn: merit_hydro\n",
      "2023-10-17 15:33:18,539 - build - model_api - INFO - setup_pipes.pipes_depth: 2.0\n",
      "2023-10-17 15:33:18,539 - build - model_api - INFO - setup_pipes.pipes_invlev: 3.0\n",
      "2023-10-17 15:33:18,539 - build - model_api - INFO - setup_pipes.snap_offset: 0.5\n",
      "2023-10-17 15:33:18,539 - build - model_api - INFO - setup_pipes.allow_intersection_snapping: True\n",
      "2023-10-17 15:33:18,539 - build - dflowfm - INFO - Preparing 1D pipes.\n",
      "2023-10-17 15:33:18,542 - build - geodataframe - INFO - Reading grip_roads vector data from C:\\Users\\li_xn\\.hydromt_data\\artifact_data\\v0.0.8\\grip_roads.gpkg\n",
      "2023-10-17 15:33:18,560 - build - geodataframe - DEBUG - Clip intersects [1384046.361, 5855359.290, 1393853.608, 5866809.259] (EPSG:3857)\n",
      "2023-10-17 15:33:18,563 - build - dataframe - INFO - Reading pipes_defaults csv data from c:\\Users\\li_xn\\AppData\\Local\\anaconda3\\envs\\hydromt-delft3dfm-v0.1.1\\lib\\site-packages\\hydromt_delft3dfm\\data\\branches\\pipes_defaults.csv\n",
      "2023-10-17 15:33:18,570 - build - branches - INFO - Processing branches\n",
      "2023-10-17 15:33:18,573 - build - branches - DEBUG - Cleaning up branches\n",
      "2023-10-17 15:33:18,583 - build - branches - DEBUG - Exploding branches.\n",
      "2023-10-17 15:33:18,585 - build - branches - DEBUG - Removing 0 branches which have duplicated geometry.\n",
      "2023-10-17 15:33:18,586 - build - branches - DEBUG - Removing 0 branches that are shorter than 0.1 meter.\n",
      "2023-10-17 15:33:18,602 - build - branches - DEBUG - Renaming 0 id_col duplicates. Convention: BRANCH_1, BRANCH_1 --> BRANCH_1, BRANCH_1-2.\n",
      "2023-10-17 15:33:18,649 - build - branches - DEBUG - Reducing precision of the GeoDataFrame. Rounding precision (e-6) .\n",
      "2023-10-17 15:33:18,653 - build - branches - DEBUG - Performing snapping at all branch ends, including intersections (To avoid messy results, please use a lower snap_offset).\n",
      "2023-10-17 15:33:18,654 - build - branches - DEBUG - Splitting branches based on spacing\n",
      "2023-10-17 15:33:20,633 - build - branches - DEBUG - clipping branches into 2826 segments\n",
      "2023-10-17 15:33:20,634 - build - branches - DEBUG - Generating branchnodes\n",
      "2023-10-17 15:33:20,919 - build - branches - INFO - Validating branches\n",
      "2023-10-17 15:33:20,922 - build - crosssections - INFO - Adding/Filling branches attributes values\n",
      "2023-10-17 15:33:20,940 - build - dflowfm - INFO - grip_roads does not have columns [invlev_up, invlev_dn]. Invert levels will be generated from dem_fn or default value 3.0\n",
      "2023-10-17 15:33:20,940 - build - rasterdataset - INFO - Reading merit_hydro raster data from C:\\Users\\li_xn\\.hydromt_data\\artifact_data\\v0.0.8\\merit_hydro\\{variable}.tif\n",
      "2023-10-17 15:33:20,957 - build - rasterdataset - DEBUG - Clip to [12.433, 46.466, 12.521, 46.537] (epsg:4326))\n",
      "2023-10-17 15:33:21,260 - build - dflowfm - INFO - Preparing crossections from branch.\n",
      "2023-10-17 15:33:21,317 - build - dflowfm - DEBUG - Adding crosssections vector to geoms.\n",
      "2023-10-17 15:33:21,336 - build - model_api - WARNING - Replacing geom: crosssections\n",
      "2023-10-17 15:33:21,336 - build - dflowfm - DEBUG - Adding pipes and pipe_nodes vector to geoms.\n",
      "2023-10-17 15:33:21,696 - build - model_api - WARNING - Replacing geom: rivers\n",
      "2023-10-17 15:33:21,698 - build - model_api - WARNING - Replacing geom: pipes\n",
      "2023-10-17 15:33:21,698 - build - dflowfm - DEBUG - Adding branches vector to geoms.\n",
      "2023-10-17 15:33:21,698 - build - model_api - WARNING - Replacing geom: branches\n",
      "2023-10-17 15:33:21,698 - build - dflowfm - DEBUG - Updating branches in network.\n",
      "2023-10-17 15:33:22,350 - build - model_mesh - WARNING - Overwriting grid network1d and the corresponding data variables in mesh.\n",
      "2023-10-17 15:33:22,400 - build - model_mesh - WARNING - Overwriting grid mesh1d and the corresponding data variables in mesh.\n",
      "2023-10-17 15:33:22,590 - build - model_api - WARNING - Replacing geom: boundaries\n",
      "2023-10-17 15:33:22,591 - build - model_api - INFO - setup_manholes.manholes_fn: None\n",
      "2023-10-17 15:33:22,591 - build - model_api - INFO - setup_manholes.manhole_defaults_fn: manholes_defaults\n",
      "2023-10-17 15:33:22,591 - build - model_api - INFO - setup_manholes.bedlevel_shift: 0.5\n",
      "2023-10-17 15:33:22,591 - build - model_api - INFO - setup_manholes.dem_fn: merit_hydro\n",
      "2023-10-17 15:33:22,591 - build - model_api - INFO - setup_manholes.snap_offset: 0.001\n",
      "2023-10-17 15:33:22,591 - build - dflowfm - INFO - generating manholes locations and bedlevels. \n",
      "2023-10-17 15:33:22,591 - build - manholes - INFO - Generating manholes on pipes and/or tunnels\n",
      "2023-10-17 15:33:22,761 - build - manholes - INFO - Shifting manholes bedlevels based on bedlevel_shift = 0.5\n",
      "2023-10-17 15:33:22,884 - build - model_api - WARNING - Replacing geom: rivers\n",
      "2023-10-17 15:33:22,886 - build - model_api - WARNING - Replacing geom: pipes\n",
      "2023-10-17 15:33:22,886 - build - dflowfm - DEBUG - Adding branches vector to geoms.\n",
      "2023-10-17 15:33:22,886 - build - model_api - WARNING - Replacing geom: branches\n",
      "2023-10-17 15:33:22,886 - build - dflowfm - DEBUG - Updating branches in network.\n",
      "2023-10-17 15:33:22,887 - build - dataframe - INFO - Reading manholes_defaults csv data from c:\\Users\\li_xn\\AppData\\Local\\anaconda3\\envs\\hydromt-delft3dfm-v0.1.1\\lib\\site-packages\\hydromt_delft3dfm\\data\\storages\\manholes_defaults.csv\n",
      "2023-10-17 15:33:22,895 - build - dflowfm - INFO - overwriting manholes street level from dem. \n",
      "2023-10-17 15:33:22,895 - build - rasterdataset - INFO - Reading merit_hydro raster data from C:\\Users\\li_xn\\.hydromt_data\\artifact_data\\v0.0.8\\merit_hydro\\{variable}.tif\n",
      "2023-10-17 15:33:22,910 - build - rasterdataset - DEBUG - Clip to [12.425, 46.460, 12.529, 46.545] (epsg:4326))\n",
      "2023-10-17 15:33:22,929 - build - dflowfm - DEBUG - street level mean is 863.6583862304688\n",
      "2023-10-17 15:33:22,930 - build - dflowfm - DEBUG - dropping duplicated manholeid\n",
      "2023-10-17 15:33:22,987 - build - dflowfm - DEBUG - Adding manholes vector to geoms.\n",
      "2023-10-17 15:33:22,987 - build - model_api - INFO - setup_1dboundary.boundaries_geodataset_fn: None\n",
      "2023-10-17 15:33:22,987 - build - model_api - INFO - setup_1dboundary.boundaries_timeseries_fn: None\n",
      "2023-10-17 15:33:22,987 - build - model_api - INFO - setup_1dboundary.boundary_value: -2.0\n",
      "2023-10-17 15:33:22,987 - build - model_api - INFO - setup_1dboundary.branch_type: river\n",
      "2023-10-17 15:33:22,987 - build - model_api - INFO - setup_1dboundary.boundary_type: waterlevel\n",
      "2023-10-17 15:33:22,987 - build - model_api - INFO - setup_1dboundary.boundary_unit: m\n",
      "2023-10-17 15:33:22,987 - build - model_api - INFO - setup_1dboundary.boundary_locs: both\n",
      "2023-10-17 15:33:22,987 - build - model_api - INFO - setup_1dboundary.snap_offset: 1.0\n",
      "2023-10-17 15:33:22,987 - build - dflowfm - INFO - Preparing 1D waterlevel boundaries for river.\n",
      "2023-10-17 15:33:23,131 - build - boundaries - INFO - Using constant value -2.0 m for all waterlevel boundaries.\n",
      "2023-10-17 15:33:23,132 - build - model_api - INFO - setup_mesh2d.region: {'bbox': [12.4331, 46.4661, 12.5212, 46.5369]}\n",
      "2023-10-17 15:33:23,132 - build - model_api - INFO - setup_mesh2d.res: 500\n",
      "2023-10-17 15:33:23,171 - build - model_api - INFO - setup_maps_from_rasterdataset.raster_fn: merit_hydro\n",
      "2023-10-17 15:33:23,171 - build - model_api - INFO - setup_maps_from_rasterdataset.variables: ['elevtn']\n",
      "2023-10-17 15:33:23,171 - build - model_api - INFO - setup_maps_from_rasterdataset.fill_method: nearest\n",
      "2023-10-17 15:33:23,171 - build - model_api - INFO - setup_maps_from_rasterdataset.reproject_method: nearest\n",
      "2023-10-17 15:33:23,171 - build - model_api - INFO - setup_maps_from_rasterdataset.interpolation_method: nearestNb\n",
      "2023-10-17 15:33:23,171 - build - model_api - INFO - setup_maps_from_rasterdataset.locationtype: 2d\n",
      "2023-10-17 15:33:23,171 - build - model_api - INFO - setup_maps_from_rasterdataset.name: None\n",
      "2023-10-17 15:33:23,171 - build - model_api - INFO - setup_maps_from_rasterdataset.split_dataset: True\n",
      "2023-10-17 15:33:23,171 - build - model_api - INFO - Preparing maps data from raster source merit_hydro\n",
      "2023-10-17 15:33:23,172 - build - rasterdataset - INFO - Reading merit_hydro raster data from C:\\Users\\li_xn\\.hydromt_data\\artifact_data\\v0.0.8\\merit_hydro\\{variable}.tif\n",
      "2023-10-17 15:33:23,185 - build - rasterdataset - DEBUG - Clip to [12.425, 46.460, 12.529, 46.545] (epsg:4326))\n",
      "2023-10-17 15:33:23,206 - build - model_api - INFO - setup_maps_from_raster_reclass.raster_fn: vito\n",
      "2023-10-17 15:33:23,206 - build - model_api - INFO - setup_maps_from_raster_reclass.reclass_table_fn: vito_mapping\n",
      "2023-10-17 15:33:23,206 - build - model_api - INFO - setup_maps_from_raster_reclass.reclass_variables: ['roughness_manning', 'infiltcap']\n",
      "2023-10-17 15:33:23,206 - build - model_api - INFO - setup_maps_from_raster_reclass.fill_method: None\n",
      "2023-10-17 15:33:23,206 - build - model_api - INFO - setup_maps_from_raster_reclass.reproject_method: nearest\n",
      "2023-10-17 15:33:23,206 - build - model_api - INFO - setup_maps_from_raster_reclass.interpolation_method: triangulation\n",
      "2023-10-17 15:33:23,207 - build - model_api - INFO - setup_maps_from_raster_reclass.locationtype: 2d\n",
      "2023-10-17 15:33:23,207 - build - model_api - INFO - setup_maps_from_raster_reclass.name: None\n",
      "2023-10-17 15:33:23,207 - build - model_api - INFO - setup_maps_from_raster_reclass.split_dataset: True\n",
      "2023-10-17 15:33:23,207 - build - model_api - INFO - Preparing map data by reclassifying the data in vito based on vito_mapping\n",
      "2023-10-17 15:33:23,207 - build - rasterdataset - INFO - Reading vito raster data from C:\\Users\\li_xn\\.hydromt_data\\artifact_data\\v0.0.8\\vito.tif\n",
      "2023-10-17 15:33:23,221 - build - rasterdataset - DEBUG - Clip to [12.425, 46.460, 12.529, 46.545] (epsg:4326))\n",
      "2023-10-17 15:33:23,222 - build - dataframe - INFO - Reading vito_mapping csv data from c:\\Users\\li_xn\\AppData\\Local\\anaconda3\\envs\\hydromt-delft3dfm-v0.1.1\\lib\\site-packages\\hydromt_delft3dfm\\data\\landuse\\vito_mapping.csv\n",
      "2023-10-17 15:33:23,254 - build - model_api - INFO - setup_rainfall_from_constant.constant_value: 150\n",
      "2023-10-17 15:33:23,254 - build - dflowfm - INFO - Preparing rainfall meteo forcing from uniform timeseries.\n",
      "2023-10-17 15:33:23,256 - build - boundaries - INFO - Preparing global (spatially uniform) timeseries.\n",
      "2023-10-17 15:33:23,256 - build - boundaries - WARNING - time unit days is not supported by the current GUI version: 2022.04\n",
      "2023-10-17 15:33:23,257 - build - model_api - INFO - setup_link1d2d.link_direction: 1d_to_2d\n",
      "2023-10-17 15:33:23,257 - build - model_api - INFO - setup_link1d2d.link_type: embedded\n",
      "2023-10-17 15:33:23,257 - build - model_api - INFO - setup_link1d2d.polygon_fn: None\n",
      "2023-10-17 15:33:23,257 - build - model_api - INFO - setup_link1d2d.branch_type: None\n",
      "2023-10-17 15:33:23,257 - build - model_api - INFO - setup_link1d2d.max_length: inf\n",
      "2023-10-17 15:33:23,257 - build - model_api - INFO - setup_link1d2d.dist_factor: 2.0\n",
      "2023-10-17 15:33:23,257 - build - dflowfm - WARNING - adding 1d2d links for all branches at non boundary locations.\n",
      "2023-10-17 15:33:23,257 - build - dflowfm - INFO - setting up 1d_to_2d links.\n",
      "2023-10-17 15:33:23,477 - build - dflowfm - INFO - Writing model data to C:\\Developments\\hydromt_delft3dfm\\examples\\build\\dflowfm_1d2d\n",
      "2023-10-17 15:33:23,477 - build - dflowfm - INFO - Writing maps files to C:\\Developments\\hydromt_delft3dfm\\examples\\build\\dflowfm_1d2d\\maps\n",
      "2023-10-17 15:33:23,620 - build - model_api - DEBUG - Writing file geoms/crosssections.geojson\n",
      "2023-10-17 15:33:23,860 - build - model_api - DEBUG - Writing file geoms/rivers.geojson\n",
      "2023-10-17 15:33:23,880 - build - model_api - DEBUG - Writing file geoms/rivers_nodes.geojson\n",
      "2023-10-17 15:33:23,889 - build - model_api - DEBUG - Writing file geoms/branches.geojson\n",
      "2023-10-17 15:33:24,096 - build - model_api - DEBUG - Writing file geoms/boundaries.geojson\n",
      "2023-10-17 15:33:24,113 - build - model_api - DEBUG - Writing file geoms/pipes.geojson\n",
      "2023-10-17 15:33:24,312 - build - model_api - DEBUG - Writing file geoms/pipe_nodes.geojson\n",
      "2023-10-17 15:33:24,504 - build - model_api - DEBUG - Writing file geoms/manholes.geojson\n",
      "2023-10-17 15:33:24,665 - build - model_api - DEBUG - Writing file geoms/region.geojson\n",
      "2023-10-17 15:33:24,672 - build - model_api - DEBUG - Writing file geoms/mesh2d.geojson\n",
      "2023-10-17 15:33:24,717 - build - model_api - DEBUG - Writing file geoms/mesh1d.geojson\n",
      "2023-10-17 15:33:24,803 - build - model_api - DEBUG - Writing file geoms/network1d.geojson\n",
      "2023-10-17 15:33:24,866 - build - dflowfm - INFO - Writting cross-sections files crsdef and crsloc\n",
      "2023-10-17 15:33:25,303 - build - dflowfm - INFO - Writting friction file(s)\n",
      "2023-10-17 15:33:25,320 - build - dflowfm - INFO - Writting manholes file.\n",
      "2023-10-17 15:33:25,873 - build - dflowfm - INFO - Writting branches.gui file\n",
      "2023-10-17 15:33:25,995 - build - dflowfm - INFO - Writting forcing files.\n",
      "2023-10-17 15:33:27,134 - build - dflowfm - INFO - Initialising empty dimr file\n",
      "2023-10-17 15:33:27,134 - build - dflowfm - INFO - Adding dflowfm component to dimr config\n",
      "2023-10-17 15:33:27,134 - build - dflowfm - INFO - Writing model dimr file to C:\\Developments\\hydromt_delft3dfm\\examples\\build\\dflowfm_1d2d\\dimr_config.xml\n"
     ]
    },
    {
     "name": "stderr",
     "output_type": "stream",
     "text": [
      "The nodata value None is not in the reclass table.None will be used for the params.\n"
     ]
    }
   ],
   "source": [
    "# NOTE: copy this line (without !) to your shell for more direct feedback - should take about 1 minute or 2 to run\n",
    "!hydromt build dflowfm \"./build/dflowfm_1d2d\" -i dflowfm_build.yml -d artifact_data --fo -vv"
   ]
  },
  {
   "cell_type": "markdown",
   "id": "b31e92d2",
   "metadata": {},
   "source": [
    "The example above means the following: run **hydromt build** with:\n",
    "\n",
    "* `dflowfm` : i.e. build a FM model\n",
    "* `./build/dflowfm_1d2d` : output model folder\n",
    "* `-i dflowfm_build.yml`: model build configuration file\n",
    "* `-d artifact_data`: data catalog to use. Here the default artifact data catalog with global data for Northern Italy.\n",
    "* `--fo`: force overwritting in case a model already exists in the output folder.\n",
    "* `-vv` : give some extra verbosity (2 * v) to display feedback on screen. Now debug and info messages are provided rather than only warnings and errors.\n",
    "\n",
    "> NOTE: You can use as many data catalogs as you need within the same command line, by repeating the `-d` options and name of the catalog to use several times."
   ]
  },
  {
   "cell_type": "markdown",
   "id": "bb9770f3",
   "metadata": {},
   "source": [
    "Next we check which files have been created."
   ]
  },
  {
   "cell_type": "code",
   "execution_count": null,
   "id": "f496aa74",
   "metadata": {},
   "outputs": [],
   "source": [
    "import os\n",
    "\n",
    "root = \"./build/dflowfm_1d2d/\"\n",
    "for path, _, files in os.walk(root):\n",
    "    print(path)\n",
    "    for name in files:\n",
    "        print(f\" - {name}\")"
   ]
  },
  {
   "cell_type": "markdown",
   "id": "2eed76e4",
   "metadata": {},
   "source": [
    "The model root should contain three files and four folders:\n",
    "\n",
    "- dimr_config.xml: Configuration file to execute Delft3D FM in Deltares Integrated Model Runner (DIMR).\n",
    "- hydromt.log: log saved by HydroMT on model building steps.\n",
    "- hydromt_data.yml: information saved by HydroMT on used datasets for reproducibility.\n",
    "- **dflowfm** folder: dflowfm files, here for our 2D model. Contains all necessary information to run a 2D model including the mesh2d, and settings and paths to the mesh2d data files in the maps folder. The configuration MDU file is also created.\n",
    "- **geoms** folder: folder containing a copy of the dflowfm data in an easily readable GIS format rather than the ini or UGRID netcdf file.\n",
    "- **maps** folder: folder containing regular gridded data that Delft3D FM can interpolate to the 2D mesh grid. Here we see our elevation or bedlevel data, as well as the roughness / friction and infiltration capacity maps.\n",
    "- **mesh** folder: emtpy folder as the mesh is written in the dflowfm folder above."
   ]
  },
  {
   "cell_type": "markdown",
   "id": "adef7fa1",
   "metadata": {},
   "source": [
    "### Visualize and/or inspect model schematization"
   ]
  },
  {
   "cell_type": "markdown",
   "id": "20ce9df3",
   "metadata": {},
   "source": [
    "* We can now load the **dimr_config.xml** into **Delft3D FM GUI**.\n",
    "* The **dflowfm plot** example notebook contains scripts to visualize your model in python (In progress)."
   ]
  }
 ],
 "metadata": {
  "kernelspec": {
   "display_name": "waterbom",
   "language": "python",
   "name": "python3"
  },
  "language_info": {
   "codemirror_mode": {
    "name": "ipython",
    "version": 3
   },
   "file_extension": ".py",
   "mimetype": "text/x-python",
   "name": "python",
   "nbconvert_exporter": "python",
   "pygments_lexer": "ipython3",
   "version": "3.9.18"
  },
  "vscode": {
   "interpreter": {
    "hash": "5fda536963eae36dbaef69f7df44483d2713515b4e134e53fb983ec0eb9438d0"
   }
  }
 },
 "nbformat": 4,
 "nbformat_minor": 5
}
