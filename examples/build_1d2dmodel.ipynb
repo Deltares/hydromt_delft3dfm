{
 "cells": [
  {
   "cell_type": "markdown",
   "id": "9a73590b",
   "metadata": {},
   "source": [
    "## Build a Delft3D FM 1D2D model from scratch"
   ]
  },
  {
   "cell_type": "markdown",
   "id": "ee510c6e",
   "metadata": {},
   "source": [
    "This notebook demonstrates how to prepare a **1D2D Delft3D FM** model from scratch using the command line interace (CLI). \n",
    "\n",
    "We will combine elements that were prepared in the *Build 1D model* and *Build 2D model* notebooks, so we advise you to have a look at these before starting this one."
   ]
  },
  {
   "cell_type": "markdown",
   "id": "6b96aa15",
   "metadata": {},
   "source": [
    "All lines in this notebook which start with `!` are executed from the command line. Within the notebook environment the logging messages are shown after completion. You can also copy these lines and paste these in your shell to get more direct feedback."
   ]
  },
  {
   "cell_type": "markdown",
   "id": "451c8168",
   "metadata": {},
   "source": [
    "### HydroMT CLI build interface"
   ]
  },
  {
   "cell_type": "markdown",
   "id": "2c70853e",
   "metadata": {},
   "source": [
    "Lets first check if the Delft3D FM model is recognized by HydroMT:"
   ]
  },
  {
   "cell_type": "code",
   "execution_count": 1,
   "id": "40470302",
   "metadata": {},
   "outputs": [
    {
     "name": "stdout",
     "output_type": "stream",
     "text": [
      "model plugins:\n",
      " - dflowfm (hydromt_delft3dfm 0.1.3.dev0)\n",
      "generic models (hydromt 0.9.0):\n",
      " - grid_model\n",
      " - vector_model\n",
      " - mesh_model\n",
      " - network_model\n",
      "\n"
     ]
    }
   ],
   "source": [
    "# this should return \"dflowfm\" to build DFlowFM components of Delft3D FM\n",
    "# as well as the generic HydroMT models \"grid_model, lumped_model, mesh_model, network_model\"\n",
    "!hydromt --models"
   ]
  },
  {
   "cell_type": "markdown",
   "id": "7d9b5a20",
   "metadata": {},
   "source": [
    "Using the **HydroMT build** API we can setup a complete model from scratch. Let's get an overview of all the available options:"
   ]
  },
  {
   "cell_type": "code",
   "execution_count": 2,
   "id": "1d39e4a1",
   "metadata": {},
   "outputs": [
    {
     "name": "stdout",
     "output_type": "stream",
     "text": [
      "Usage: hydromt build [OPTIONS] MODEL MODEL_ROOT\n",
      "\n",
      "  Build models from scratch.\n",
      "\n",
      "  Example usage: --------------\n",
      "\n",
      "  To build a wflow model for a subbasin using a point coordinates snapped to\n",
      "  cells with upstream area >= 50 km2 hydromt build wflow /path/to/model_root\n",
      "  -i /path/to/wflow_config.ini  -r \"{'subbasin': [-7.24, 62.09], 'uparea':\n",
      "  50}\" -d deltares_data -d /path/to/data_catalog.yml -v\n",
      "\n",
      "  To build a sfincs model based on a bbox hydromt build sfincs\n",
      "  /path/to/model_root  -i /path/to/sfincs_config.ini  -r \"{'bbox':\n",
      "  [4.6891,52.9750,4.9576,53.1994]}\"  -d /path/to/data_catalog.yml -v\n",
      "\n",
      "Options:\n",
      "  --opt TEXT               Method specific keyword arguments, see the method\n",
      "                           documentation of the specific model for more\n",
      "                           information about the arguments.\n",
      "  -i, --config PATH        Path to hydroMT configuration file, for the model\n",
      "                           specific implementation.\n",
      "  -r, --region TEXT        Set the region for which to build the model, e.g.\n",
      "                           {'subbasin': [-7.24, 62.09]}\n",
      "  -d, --data TEXT          Path to local yaml data catalog file OR name of\n",
      "                           predefined data catalog.\n",
      "  --dd, --deltares-data    Flag: Shortcut to add the \"deltares_data\" catalog\n",
      "  --fo, --force-overwrite  Flag: If provided overwrite existing model files\n",
      "  --cache                  Flag: If provided cache tiled rasterdatasets\n",
      "  -v, --verbose            Increase verbosity.\n",
      "  -q, --quiet              Decrease verbosity.\n",
      "  --help                   Show this message and exit.\n"
     ]
    }
   ],
   "source": [
    "!hydromt build --help"
   ]
  },
  {
   "cell_type": "markdown",
   "id": "7584dcae",
   "metadata": {},
   "source": [
    "### Data for model setup"
   ]
  },
  {
   "cell_type": "markdown",
   "id": "dad35651",
   "metadata": {},
   "source": [
    "Most of the time, the `<...>_fn` arguments correspond to a data source from the `DataCatalog` which is based on a yml-file with references to the data paths/urls and how the data should be read. This file can be provided to hydromt using `-d <path_to_yml_file>`. \n",
    "\n",
    "By default, the pre-defined `artifact_data` catalog containing some example data for the Piave basin will be downloaded to `~/.hydromt_data/` which is also used for this example. An overview of the available example data is provided [here](https://deltares.github.io/hydromt/latest/user_guide/data_existing_cat.html).\n",
    "This example data is a based on the data which is available from the Deltares p-drive. \n",
    "If you have acces to this drive, a pre-configured catalog file can be loaded using the `-d deltares_data` pre-defined catalog. \n",
    "\n",
    "More information on how to write a data catalog yml file can be found in the [HydroMT core docs](https://deltares.github.io/hydromt/latest/user_guide/data_prepare_cat.html) \n",
    "\n",
    "> **NOTE**: In HydroMT-Delft3D FM, an additionnal data catalog with all default parameters values is always used [parameters_data.yml](https://github.com/Deltares/hydromt_delft3dfm/tree/main/hydromt_delft3dfm/data/parameters_data.yml). It contains default values for 1D network elements and structures as well as default 2D landuse paramter mapping tables."
   ]
  },
  {
   "cell_type": "markdown",
   "id": "ebd31242",
   "metadata": {},
   "source": [
    "### Model setup configuration"
   ]
  },
  {
   "cell_type": "markdown",
   "id": "fb8282c9",
   "metadata": {},
   "source": [
    "The HydroMT configuration file contains the model setup configuration and determines which methods are used to prepare the different components of a Delft3D FM model and in which order and optionally sets non-default arguments for each method. This configuration is passed to HydroMT using `-i <path_to_configuration_file>`. The supported format are either YAML or INI. We have prepared several example yml-files which are available in the model repository [examples folder](https://github.com/Deltares/hydromt_delft3dfm/tree/main/examples) and from the [docs (building a model)](https://deltares.github.io/hydromt_delft3dfm/latest/user_guide/dflowfm_build). \n",
    "\n",
    "Each section, before indent, (e.g. setup_rivers_from_dem) corresponds to a model method. All model methods are explained in the [docs (model components)](https://deltares.github.io/hydromt_delft3dfm/latest/user_guide/dflowfm_model_setup.html). The `global` section contains direct model initialisation properties."
   ]
  },
  {
   "cell_type": "markdown",
   "id": "cc3fd44d",
   "metadata": {},
   "source": [
    "We will load the default dflowfm build 1D2D yaml file for inspection:"
   ]
  },
  {
   "cell_type": "code",
   "execution_count": 3,
   "id": "e88d4aed",
   "metadata": {},
   "outputs": [
    {
     "name": "stdout",
     "output_type": "stream",
     "text": [
      "global:\n",
      "  crs: 3857\n",
      "  network_snap_offset: 25\n",
      "  openwater_computation_node_distance: 40\n",
      "\n",
      "setup_rivers_from_dem:\n",
      "  region: \n",
      "    bbox: [12.4331, 46.4661, 12.5212, 46.5369]\n",
      "  hydrography_fn: merit_hydro\n",
      "  river_geom_fn: rivers_lin2019_v1\n",
      "  rivers_defaults_fn: rivers_defaults\n",
      "  rivdph_method: gvf\n",
      "  rivwth_method: geom\n",
      "  river_upa: 25.0\n",
      "  friction_type: \"Manning\"\n",
      "  friction_value: 0.023\n",
      "  rivbankq: 25\n",
      "\n",
      "setup_pipes:\n",
      "  region: \n",
      "    bbox: [12.4331, 46.4661, 12.5212, 46.5369]\n",
      "  pipes_fn: grip_roads\n",
      "  pipes_defaults_fn: pipes_defaults\n",
      "  pipe_filter: pipe\n",
      "  spacing: 50\n",
      "  friction_type: WhiteColeBrook\n",
      "  friction_value: 0.003\n",
      "  crosssections_shape: circle\n",
      "  crosssections_value: 0.5\n",
      "  dem_fn: merit_hydro # [copdem30, merit]\n",
      "  pipes_depth: 2.0\n",
      "  snap_offset: 0.5\n",
      "  pipes_invlev: 3. \n",
      "\n",
      "setup_manholes:\n",
      "  manholes_fn:\n",
      "  manhole_defaults_fn: manholes_defaults\n",
      "  dem_fn: merit_hydro\n",
      "  bedlevel_shift: 0.5\n",
      "\n",
      "setup_1dboundary:\n",
      "  boundary_value: -2.0\n",
      "  branch_type: river\n",
      "  boundary_type: waterlevel\n",
      "  boundary_unit: m\n",
      "  boundary_locs: both\n",
      "\n",
      "setup_mesh2d:\n",
      "  region: \n",
      "    bbox: [12.4331, 46.4661, 12.5212, 46.5369]\n",
      "  res: 500\n",
      "\n",
      "setup_maps_from_rasterdataset:\n",
      "  raster_fn: merit_hydro\n",
      "  variables: [\"elevtn\"]\n",
      "  fill_method: nearest\n",
      "  interpolation_method: nearestNb\n",
      "\n",
      "setup_maps_from_raster_reclass:\n",
      "  raster_fn: vito\n",
      "  reclass_table_fn: vito_mapping\n",
      "  reclass_variables: ['roughness_manning', 'infiltcap']\n",
      "  interpolation_method: triangulation\n",
      "\n",
      "setup_rainfall_from_constant:\n",
      "  constant_value: 150\n",
      "\n",
      "setup_link1d2d:\n",
      "  link_direction: 1d_to_2d\n"
     ]
    }
   ],
   "source": [
    "fn_yml = \"dflowfm_build.yml\"\n",
    "with open(fn_yml, \"r\") as f:\n",
    "    txt = f.read()\n",
    "print(txt)"
   ]
  },
  {
   "cell_type": "markdown",
   "id": "9607a239",
   "metadata": {},
   "source": [
    "Looking at this file, you see that we will prepare the following information for our model:\n",
    "\n",
    "- [global](https://deltares.github.io/hydromt_delft3dfm/latest/_generated/hydromt_delft3dfm.DFlowFMModel.html#hydromt_delft3dfm.DFlowFMModel): Our model will be defined in the projected CRS WGS84 EPSG 3857. TO ensure the 1D network is connected, we will allow snapping of 25 meters using argument network_snap_offset. The 1D computational grid for the open water system will be created at 40 meters distance using argument openwater_computation_node_distance. \n",
    "\n",
    "- [setup_rivers_from_dem](https://deltares.github.io/hydromt_delft3dfm/latest/_generated/hydromt_delft3dfm.DFlowFMModel.setup_rivers_from_dem.html): We will derive the 1D rivers lines based on the *MERIT Hydro DEM* and that intersects with the region bounding box [12.4331, 46.4661, 12.5212, 46.5369]. River roughness will be a Manning constant of 25.0 and we will use data from *rivers_lin2019* database to prepare rectangular cross-sections. \n",
    "- [setup_pipes](https://deltares.github.io/hydromt_delft3dfm/latest/_generated/hydromt_delft3dfm.DFlowFMModel.setup_pipes.html): We will add pipes by assuming that they are located under the roads, with a standard length of 50 meters. The roads are defined in the *grip_roads* data and the standard length are defined in the argument spacing. Roughness will be a WhiteColeBrook constant of 0.003 and we will use a circular cross-sections of 0.5m. The pipes invert levels will be derived from the *MERIT Hydro DEM* assuming a constant depth of the pipe underground of 2 meters. \n",
    "- [setup_manholes](https://deltares.github.io/hydromt_delft3dfm/latest/_generated/hydromt_delft3dfm.DFlowFMModel.setup_manholes.html): For a pipe network, manholes are present at pipe connections. Here we do not have specific input data locations for our pipes, so manholes will be generated based on a set of standards specified in manhole_defaults_fn.\n",
    "- [setup_1dboundary](https://deltares.github.io/hydromt_delft3dfm/latest/_generated/hydromt_delft3dfm.DFlowFMModel.setup_1dboundary.html): Finally as a default, we will apply both upstream and downstream boundaries of our rivers with a constant waterlevel of -2.0 meter a.s.l\n",
    "\n",
    "- [setup_mesh2d](https://deltares.github.io/hydromt_delft3dfm/latest/_generated/hydromt_delft3dfm.DFlowFMModel.setup_mesh2d.html): we will prepare a regular grid for the region bounding box [12.4331, 46.4661, 12.5212, 46.5369] of *500***500* meters resolution.\n",
    "- [setup_maps_from_rasterdataset](https://deltares.github.io/hydromt_delft3dfm/latest/_generated/hydromt_delft3dfm.DFlowFMModel.setup_maps_from_rasterdataset.html): prepares gridded elevation (bedlevel) from *merit_hydro*. Here elevation is extracted from *merit_hydro* and any no data is filled using *nearest* method. When running, the Delft3D FM kernel will interpolate it to the mesh 2D grid using the *nearestNb* method.\n",
    "- [setup_maps_from_raster_reclass](https://deltares.github.io/hydromt_delft3dfm/latest/_generated/hydromt_delft3dfm.DFlowFMModel.setup_maps_from_raster_reclass.html): prepares gridded Manning roughness and infiltration capacity data from landuse, by reclassifying the landuse categories in *vito* landuse data, using parameters values defined per landuse category in *vito_mapping* table. When running, the Delft3D FM kernel will interpolate it to the mesh 2D grid using the *triangulation* method.\n",
    "- [setup_rainfall_from_constant](https://deltares.github.io/hydromt_delft3dfm/latest/_generated/hydromt_delft3dfm.DFlowFMModel.setup_rainfall_from_constant.html): prepares a constant rainfall rate of *150* mm/day as meteo forcing to the model. \n",
    "Feel free to use the links of each components to know more about how each function works and what are all the available settings.\n",
    "Additionnally to a 1D or 2D models only, we have now added a new method:\n",
    "\n",
    "- [setup_link1d2d](https://deltares.github.io/hydromt_delft3dfm/latest/_generated/hydromt_delft3dfm.DFlowFMModel.setup_link1d2d.html): we will link our 1D and 2D mesh by setting up links from the 1D network to the 2D grid. As you can imagine, this function can only be run once both the schematisation of the 1D and the 2D grids are finalized. If any change is made to the 1D or the 2D grid, this funcion should be run again.\n",
    "\n",
    "Feel free to use the links of each components to know more about how each function works and what are all the available settings."
   ]
  },
  {
   "cell_type": "markdown",
   "id": "b0242689",
   "metadata": {},
   "source": [
    "> **NOTE**: \n",
    "  In this example, we apply region argument in setup_rivers_from_dem, setup_pipes and setup_mesh2d. They are identical in this example but one can alter them to have different region for rivers, for pipes and for 2dmesh. This allows the user to customize their model as much as possible, as the extent of the 1D river can differ from the extent of the 1D urban network or the 2D inundation grid. The region bbox are in WGS 84 as required, but the user should specify the dflowfm model destination CRS in the `global` section in order to allow to use grid definition data (rivers, pipes) from different data sources or CRS. "
   ]
  },
  {
   "cell_type": "markdown",
   "id": "12860ed2",
   "metadata": {},
   "source": [
    "### Building a 1D2D Delft3D FM model"
   ]
  },
  {
   "cell_type": "code",
   "execution_count": 4,
   "id": "hundred-trailer",
   "metadata": {
    "scrolled": true
   },
   "outputs": [
    {
     "name": "stdout",
     "output_type": "stream",
     "text": [
      "2023-11-01 15:33:21,158 - build - log - DEBUG - Writing log messages to new file C:\\SnapVolumesTemp\\MountPoints\\{45c63495-0000-0000-0000-100000000000}\\{79DE0690-9470-4166-B9EE-4548DC416BBD}\\SVROOT\\DATA\\hydromt_delft3dfm\\examples\\build\\dflowfm_1d2d\\hydromt.log.\n",
      "2023-11-01 15:33:21,159 - build - log - INFO - HydroMT version: 0.9.0\n",
      "2023-11-01 15:33:21,159 - build - main - INFO - Building instance of dflowfm model at C:\\SnapVolumesTemp\\MountPoints\\{45c63495-0000-0000-0000-100000000000}\\{79DE0690-9470-4166-B9EE-4548DC416BBD}\\SVROOT\\DATA\\hydromt_delft3dfm\\examples\\build\\dflowfm_1d2d.\n",
      "2023-11-01 15:33:21,159 - build - main - INFO - User settings:\n",
      "2023-11-01 15:33:28,139 - build - data_catalog - INFO - Reading data catalog archive artifact_data v0.0.8\n",
      "2023-11-01 15:33:28,141 - build - data_catalog - INFO - Parsing data catalog from C:\\Users\\veenstra\\.hydromt_data\\artifact_data\\v0.0.8\\data_catalog.yml\n",
      "2023-11-01 15:33:28,243 - build - model_api - INFO - Initializing dflowfm model from hydromt_delft3dfm (v0.1.3.dev0).\n",
      "2023-11-01 15:33:28,243 - build - data_catalog - INFO - Parsing data catalog from C:\\SnapVolumesTemp\\MountPoints\\{45c63495-0000-0000-0000-100000000000}\\{79DE0690-9470-4166-B9EE-4548DC416BBD}\\SVROOT\\DATA\\hydromt_delft3dfm\\hydromt_delft3dfm\\data\\parameters_data.yml\n",
      "2023-11-01 15:33:28,251 - build - dflowfm - INFO - Initialising empty mdu file\n",
      "2023-11-01 15:33:28,258 - build - dflowfm - INFO - project crs: 3857\n",
      "2023-11-01 15:33:28,258 - build - model_api - INFO - setup_rivers_from_dem.region: {'bbox': [12.4331, 46.4661, 12.5212, 46.5369]}\n",
      "2023-11-01 15:33:28,258 - build - model_api - INFO - setup_rivers_from_dem.hydrography_fn: merit_hydro\n",
      "2023-11-01 15:33:28,258 - build - model_api - INFO - setup_rivers_from_dem.river_geom_fn: rivers_lin2019_v1\n",
      "2023-11-01 15:33:28,258 - build - model_api - INFO - setup_rivers_from_dem.rivers_defaults_fn: rivers_defaults\n",
      "2023-11-01 15:33:28,258 - build - model_api - INFO - setup_rivers_from_dem.rivdph_method: gvf\n",
      "2023-11-01 15:33:28,259 - build - model_api - INFO - setup_rivers_from_dem.rivwth_method: geom\n",
      "2023-11-01 15:33:28,259 - build - model_api - INFO - setup_rivers_from_dem.river_upa: 25.0\n",
      "2023-11-01 15:33:28,259 - build - model_api - INFO - setup_rivers_from_dem.river_len: 1000\n",
      "2023-11-01 15:33:28,259 - build - model_api - INFO - setup_rivers_from_dem.min_rivwth: 50.0\n",
      "2023-11-01 15:33:28,259 - build - model_api - INFO - setup_rivers_from_dem.min_rivdph: 1.0\n",
      "2023-11-01 15:33:28,259 - build - model_api - INFO - setup_rivers_from_dem.rivbank: True\n",
      "2023-11-01 15:33:28,259 - build - model_api - INFO - setup_rivers_from_dem.rivbankq: 25\n",
      "2023-11-01 15:33:28,259 - build - model_api - INFO - setup_rivers_from_dem.segment_length: 3000.0\n",
      "2023-11-01 15:33:28,259 - build - model_api - INFO - setup_rivers_from_dem.smooth_length: 10000.0\n",
      "2023-11-01 15:33:28,259 - build - model_api - INFO - setup_rivers_from_dem.friction_type: Manning\n",
      "2023-11-01 15:33:28,259 - build - model_api - INFO - setup_rivers_from_dem.friction_value: 0.023\n",
      "2023-11-01 15:33:28,259 - build - model_api - INFO - setup_rivers_from_dem.constrain_rivbed: True\n",
      "2023-11-01 15:33:28,259 - build - model_api - INFO - setup_rivers_from_dem.constrain_estuary: True\n",
      "2023-11-01 15:33:28,259 - build - dflowfm - INFO - Preparing river shape from hydrography data.\n",
      "2023-11-01 15:33:28,272 - build - rasterdataset - INFO - Reading merit_hydro raster data from C:\\Users\\veenstra\\.hydromt_data\\artifact_data\\v0.0.8\\merit_hydro\\{variable}.tif\n",
      "2023-11-01 15:33:28,485 - build - rasterdataset - DEBUG - Clip to [12.433, 46.466, 12.521, 46.537] (epsg:4326))\n",
      "2023-11-01 15:33:28,488 - build - geodataframe - INFO - Reading rivers_lin2019_v1 vector data from C:\\Users\\veenstra\\.hydromt_data\\artifact_data\\v0.0.8\\rivers_lin2019_v1.gpkg\n",
      "2023-11-01 15:33:28,745 - build - geodataframe - DEBUG - Clip intersects [1384045.361, 5855358.290, 1393854.608, 5866810.259] (EPSG:3857)\n",
      "2023-11-01 15:33:40,052 - build - dem - INFO - Deriving bankfull river surface elevation from its banks.\n",
      "2023-11-01 15:33:48,976 - build - dem - INFO - Smoothing river width (n=2).\n",
      "2023-11-01 15:33:51,169 - build - main - ERROR - No such file found: C:\\SnapVolumesTemp\\MountPoints\\{{45c63495-0000-0000-0000-100000000000}}\\{{79DE0690-9470-4166-B9EE-4548DC416BBD}}\\SVROOT\\DATA\\hydromt_delft3dfm\\hydromt_delft3dfm\\data\\branches\\rivers_defaults.csv\n",
      "Traceback (most recent call last):\n",
      "  File \"C:\\Users\\veenstra\\Anaconda3\\envs\\dsd_env\\Lib\\site-packages\\hydromt\\cli\\main.py\", line 207, in build\n",
      "    mod.build(region, opt=opt)\n",
      "  File \"C:\\Users\\veenstra\\Anaconda3\\envs\\dsd_env\\Lib\\site-packages\\hydromt\\models\\model_api.py\", line 240, in build\n",
      "    self._run_log_method(method, **kwargs)\n",
      "  File \"C:\\Users\\veenstra\\Anaconda3\\envs\\dsd_env\\Lib\\site-packages\\hydromt\\models\\model_api.py\", line 182, in _run_log_method\n",
      "    return func(*args, **kwargs)\n",
      "           ^^^^^^^^^^^^^^^^^^^^^\n",
      "  File \"C:\\SnapVolumesTemp\\MountPoints\\{45c63495-0000-0000-0000-100000000000}\\{79DE0690-9470-4166-B9EE-4548DC416BBD}\\SVROOT\\DATA\\hydromt_delft3dfm\\hydromt_delft3dfm\\dflowfm.py\", line 567, in setup_rivers_from_dem\n",
      "    defaults = self.data_catalog.get_dataframe(rivers_defaults_fn)\n",
      "               ^^^^^^^^^^^^^^^^^^^^^^^^^^^^^^^^^^^^^^^^^^^^^^^^^^^\n",
      "  File \"C:\\Users\\veenstra\\Anaconda3\\envs\\dsd_env\\Lib\\site-packages\\hydromt\\data_catalog.py\", line 1534, in get_dataframe\n",
      "    obj = source.get_data(\n",
      "          ^^^^^^^^^^^^^^^^\n",
      "  File \"C:\\Users\\veenstra\\Anaconda3\\envs\\dsd_env\\Lib\\site-packages\\hydromt\\data_adapter\\dataframe.py\", line 206, in get_data\n",
      "    fns = self._resolve_paths(variables)\n",
      "          ^^^^^^^^^^^^^^^^^^^^^^^^^^^^^^\n",
      "  File \"C:\\Users\\veenstra\\Anaconda3\\envs\\dsd_env\\Lib\\site-packages\\hydromt\\data_adapter\\data_adapter.py\", line 393, in _resolve_paths\n",
      "    raise FileNotFoundError(f\"No such file found: {path}{postfix}\")\n",
      "FileNotFoundError: No such file found: C:\\SnapVolumesTemp\\MountPoints\\{{45c63495-0000-0000-0000-100000000000}}\\{{79DE0690-9470-4166-B9EE-4548DC416BBD}}\\SVROOT\\DATA\\hydromt_delft3dfm\\hydromt_delft3dfm\\data\\branches\\rivers_defaults.csv\n"
     ]
    },
    {
     "name": "stderr",
     "output_type": "stream",
     "text": [
      "Traceback (most recent call last):\n",
      "  File \"<frozen runpy>\", line 198, in _run_module_as_main\n",
      "  File \"<frozen runpy>\", line 88, in _run_code\n",
      "  File \"C:\\Users\\veenstra\\Anaconda3\\envs\\dsd_env\\Scripts\\hydromt.exe\\__main__.py\", line 7, in <module>\n",
      "  File \"C:\\Users\\veenstra\\Anaconda3\\envs\\dsd_env\\Lib\\site-packages\\click\\core.py\", line 1157, in __call__\n",
      "    return self.main(*args, **kwargs)\n",
      "           ^^^^^^^^^^^^^^^^^^^^^^^^^^\n",
      "  File \"C:\\Users\\veenstra\\Anaconda3\\envs\\dsd_env\\Lib\\site-packages\\click\\core.py\", line 1078, in main\n",
      "    rv = self.invoke(ctx)\n",
      "         ^^^^^^^^^^^^^^^^\n",
      "  File \"C:\\Users\\veenstra\\Anaconda3\\envs\\dsd_env\\Lib\\site-packages\\click\\core.py\", line 1688, in invoke\n",
      "    return _process_result(sub_ctx.command.invoke(sub_ctx))\n",
      "                           ^^^^^^^^^^^^^^^^^^^^^^^^^^^^^^^\n",
      "  File \"C:\\Users\\veenstra\\Anaconda3\\envs\\dsd_env\\Lib\\site-packages\\click\\core.py\", line 1434, in invoke\n",
      "    return ctx.invoke(self.callback, **ctx.params)\n",
      "           ^^^^^^^^^^^^^^^^^^^^^^^^^^^^^^^^^^^^^^^\n",
      "  File \"C:\\Users\\veenstra\\Anaconda3\\envs\\dsd_env\\Lib\\site-packages\\click\\core.py\", line 783, in invoke\n",
      "    return __callback(*args, **kwargs)\n",
      "           ^^^^^^^^^^^^^^^^^^^^^^^^^^^\n",
      "  File \"C:\\Users\\veenstra\\Anaconda3\\envs\\dsd_env\\Lib\\site-packages\\click\\decorators.py\", line 33, in new_func\n",
      "    return f(get_current_context(), *args, **kwargs)\n",
      "           ^^^^^^^^^^^^^^^^^^^^^^^^^^^^^^^^^^^^^^^^^\n",
      "  File \"C:\\Users\\veenstra\\Anaconda3\\envs\\dsd_env\\Lib\\site-packages\\hydromt\\cli\\main.py\", line 207, in build\n",
      "    mod.build(region, opt=opt)\n",
      "  File \"C:\\Users\\veenstra\\Anaconda3\\envs\\dsd_env\\Lib\\site-packages\\hydromt\\models\\model_api.py\", line 240, in build\n",
      "    self._run_log_method(method, **kwargs)\n",
      "  File \"C:\\Users\\veenstra\\Anaconda3\\envs\\dsd_env\\Lib\\site-packages\\hydromt\\models\\model_api.py\", line 182, in _run_log_method\n",
      "    return func(*args, **kwargs)\n",
      "           ^^^^^^^^^^^^^^^^^^^^^\n",
      "  File \"C:\\SnapVolumesTemp\\MountPoints\\{45c63495-0000-0000-0000-100000000000}\\{79DE0690-9470-4166-B9EE-4548DC416BBD}\\SVROOT\\DATA\\hydromt_delft3dfm\\hydromt_delft3dfm\\dflowfm.py\", line 567, in setup_rivers_from_dem\n",
      "    defaults = self.data_catalog.get_dataframe(rivers_defaults_fn)\n",
      "               ^^^^^^^^^^^^^^^^^^^^^^^^^^^^^^^^^^^^^^^^^^^^^^^^^^^\n",
      "  File \"C:\\Users\\veenstra\\Anaconda3\\envs\\dsd_env\\Lib\\site-packages\\hydromt\\data_catalog.py\", line 1534, in get_dataframe\n",
      "    obj = source.get_data(\n",
      "          ^^^^^^^^^^^^^^^^\n",
      "  File \"C:\\Users\\veenstra\\Anaconda3\\envs\\dsd_env\\Lib\\site-packages\\hydromt\\data_adapter\\dataframe.py\", line 206, in get_data\n",
      "    fns = self._resolve_paths(variables)\n",
      "          ^^^^^^^^^^^^^^^^^^^^^^^^^^^^^^\n",
      "  File \"C:\\Users\\veenstra\\Anaconda3\\envs\\dsd_env\\Lib\\site-packages\\hydromt\\data_adapter\\data_adapter.py\", line 393, in _resolve_paths\n",
      "    raise FileNotFoundError(f\"No such file found: {path}{postfix}\")\n",
      "FileNotFoundError: No such file found: C:\\SnapVolumesTemp\\MountPoints\\{{45c63495-0000-0000-0000-100000000000}}\\{{79DE0690-9470-4166-B9EE-4548DC416BBD}}\\SVROOT\\DATA\\hydromt_delft3dfm\\hydromt_delft3dfm\\data\\branches\\rivers_defaults.csv\n"
     ]
    }
   ],
   "source": [
    "# NOTE: copy this line (without !) to your shell for more direct feedback - should take about 1 minute or 2 to run\n",
    "!hydromt build dflowfm \"./build/dflowfm_1d2d\" -i dflowfm_build.yml -d artifact_data --fo -vv"
   ]
  },
  {
   "cell_type": "markdown",
   "id": "b31e92d2",
   "metadata": {},
   "source": [
    "The example above means the following: run **hydromt build** with:\n",
    "\n",
    "* `dflowfm` : i.e. build a FM model\n",
    "* `./build/dflowfm_1d2d` : output model folder\n",
    "* `-i dflowfm_build.yml`: model build configuration file\n",
    "* `-d artifact_data`: data catalog to use. Here the default artifact data catalog with global data for Northern Italy.\n",
    "* `--fo`: force overwritting in case a model already exists in the output folder.\n",
    "* `-vv` : give some extra verbosity (2 * v) to display feedback on screen. Now debug and info messages are provided rather than only warnings and errors.\n",
    "\n",
    "> NOTE: You can use as many data catalogs as you need within the same command line, by repeating the `-d` options and name of the catalog to use several times."
   ]
  },
  {
   "cell_type": "markdown",
   "id": "bb9770f3",
   "metadata": {},
   "source": [
    "Next we check which files have been created."
   ]
  },
  {
   "cell_type": "code",
   "execution_count": 5,
   "id": "f496aa74",
   "metadata": {},
   "outputs": [
    {
     "name": "stdout",
     "output_type": "stream",
     "text": [
      "./build/dflowfm_1d2d/\n",
      " - hydromt.log\n",
      "./build/dflowfm_1d2d/dflowfm\n",
      "./build/dflowfm_1d2d/geoms\n",
      "./build/dflowfm_1d2d/maps\n"
     ]
    }
   ],
   "source": [
    "import os\n",
    "\n",
    "root = \"./build/dflowfm_1d2d/\"\n",
    "for path, _, files in os.walk(root):\n",
    "    print(path)\n",
    "    for name in files:\n",
    "        print(f\" - {name}\")"
   ]
  },
  {
   "cell_type": "markdown",
   "id": "2eed76e4",
   "metadata": {},
   "source": [
    "The model root should contain three files and four folders:\n",
    "\n",
    "- dimr_config.xml: Configuration file to execute Delft3D FM in Deltares Integrated Model Runner (DIMR).\n",
    "- hydromt.log: log saved by HydroMT on model building steps.\n",
    "- hydromt_data.yml: information saved by HydroMT on used datasets for reproducibility.\n",
    "- **dflowfm** folder: dflowfm files, here for our 2D model. Contains all necessary information to run a 2D model including the mesh2d, and settings and paths to the mesh2d data files in the maps folder. The configuration MDU file is also created.\n",
    "- **geoms** folder: folder containing a copy of the dflowfm data in an easily readable GIS format rather than the ini or UGRID netcdf file.\n",
    "- **maps** folder: folder containing regular gridded data that Delft3D FM can interpolate to the 2D mesh grid. Here we see our elevation or bedlevel data, as well as the roughness / friction and infiltration capacity maps."
   ]
  },
  {
   "cell_type": "markdown",
   "id": "adef7fa1",
   "metadata": {},
   "source": [
    "### Visualize and/or inspect model schematization"
   ]
  },
  {
   "cell_type": "markdown",
   "id": "20ce9df3",
   "metadata": {},
   "source": [
    "* We can now load the **dimr_config.xml** into **Delft3D FM GUI**.\n",
    "* The **dflowfm plot** [example notebook](https://deltares.github.io/hydromt_delft3dfm/latest/_examples/plot_dflowfm_mesh.html) contains scripts to visualize your model in python: "
   ]
  }
 ],
 "metadata": {
  "kernelspec": {
   "display_name": "Python 3 (ipykernel)",
   "language": "python",
   "name": "python3"
  },
  "language_info": {
   "codemirror_mode": {
    "name": "ipython",
    "version": 3
   },
   "file_extension": ".py",
   "mimetype": "text/x-python",
   "name": "python",
   "nbconvert_exporter": "python",
   "pygments_lexer": "ipython3",
   "version": "3.11.6"
  },
  "vscode": {
   "interpreter": {
    "hash": "5fda536963eae36dbaef69f7df44483d2713515b4e134e53fb983ec0eb9438d0"
   }
  }
 },
 "nbformat": 4,
 "nbformat_minor": 5
}
