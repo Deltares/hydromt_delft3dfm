{
 "cells": [
  {
   "cell_type": "markdown",
   "id": "9a73590b",
   "metadata": {},
   "source": [
    "## Build a Delft3D FM 2D model from scratch"
   ]
  },
  {
   "cell_type": "markdown",
   "id": "ee510c6e",
   "metadata": {},
   "source": [
    "This notebook demonstrates how to prepare a **2D Delft3D FM** model from scratch using the command line interace (CLI)."
   ]
  },
  {
   "cell_type": "markdown",
   "id": "6b96aa15",
   "metadata": {},
   "source": [
    "All lines in this notebook which start with `!` are executed from the command line. Within the notebook environment the logging messages are shown after completion. You can also copy these lines and paste these in your shell to get more direct feedback."
   ]
  },
  {
   "cell_type": "markdown",
   "id": "451c8168",
   "metadata": {},
   "source": [
    "### HydroMT CLI build interface"
   ]
  },
  {
   "cell_type": "markdown",
   "id": "2c70853e",
   "metadata": {},
   "source": [
    "Lets first check if the Delft3D FM model is recognized by HydroMT:"
   ]
  },
  {
   "cell_type": "code",
   "execution_count": 1,
   "id": "40470302",
   "metadata": {},
   "outputs": [
    {
     "name": "stdout",
     "output_type": "stream",
     "text": [
      "model plugins:\n",
      " - dflowfm (hydromt_delft3dfm 0.1.2)\n",
      "generic models (hydromt 0.9.0):\n",
      " - grid_model\n",
      " - vector_model\n",
      " - mesh_model\n",
      " - network_model\n",
      "\n"
     ]
    }
   ],
   "source": [
    "# this should return \"dflowfm\" to build DFlowFM components of Delft3D FM\n",
    "# as well as the generic HydroMT models \"grid_model, lumped_model, mesh_model, network_model\"\n",
    "!hydromt --models"
   ]
  },
  {
   "cell_type": "markdown",
   "id": "7d9b5a20",
   "metadata": {},
   "source": [
    "Using the **HydroMT build** API we can setup a complete model from scratch. Let's get an overview of all the available options:"
   ]
  },
  {
   "cell_type": "code",
   "execution_count": 2,
   "id": "1d39e4a1",
   "metadata": {},
   "outputs": [
    {
     "name": "stdout",
     "output_type": "stream",
     "text": [
      "Usage: hydromt build [OPTIONS] MODEL MODEL_ROOT\n",
      "\n",
      "  Build models from scratch.\n",
      "\n",
      "  Example usage: --------------\n",
      "\n",
      "  To build a wflow model for a subbasin using a point coordinates snapped to\n",
      "  cells with upstream area >= 50 km2 hydromt build wflow /path/to/model_root\n",
      "  -i /path/to/wflow_config.ini  -r \"{'subbasin': [-7.24, 62.09], 'uparea':\n",
      "  50}\" -d deltares_data -d /path/to/data_catalog.yml -v\n",
      "\n",
      "  To build a sfincs model based on a bbox hydromt build sfincs\n",
      "  /path/to/model_root  -i /path/to/sfincs_config.ini  -r \"{'bbox':\n",
      "  [4.6891,52.9750,4.9576,53.1994]}\"  -d /path/to/data_catalog.yml -v\n",
      "\n",
      "Options:\n",
      "  --opt TEXT               Method specific keyword arguments, see the method\n",
      "                           documentation of the specific model for more\n",
      "                           information about the arguments.\n",
      "  -i, --config PATH        Path to hydroMT configuration file, for the model\n",
      "                           specific implementation.\n",
      "  -r, --region TEXT        Set the region for which to build the model, e.g.\n",
      "                           {'subbasin': [-7.24, 62.09]}\n",
      "  -d, --data TEXT          Path to local yaml data catalog file OR name of\n",
      "                           predefined data catalog.\n",
      "  --dd, --deltares-data    Flag: Shortcut to add the \"deltares_data\" catalog\n",
      "  --fo, --force-overwrite  Flag: If provided overwrite existing model files\n",
      "  --cache                  Flag: If provided cache tiled rasterdatasets\n",
      "  -v, --verbose            Increase verbosity.\n",
      "  -q, --quiet              Decrease verbosity.\n",
      "  --help                   Show this message and exit.\n"
     ]
    }
   ],
   "source": [
    "!hydromt build --help"
   ]
  },
  {
   "cell_type": "markdown",
   "id": "7584dcae",
   "metadata": {},
   "source": [
    "### Data for model setup"
   ]
  },
  {
   "cell_type": "markdown",
   "id": "dad35651",
   "metadata": {},
   "source": [
    "Most of the time, the `<...>_fn` arguments correspond to a data source from the `DataCatalog` which is based on a yml-file with references to the data paths/urls and how the data should be read. This file can be provided to hydromt using `-d <path_to_yml_file>`. \n",
    "\n",
    "By default, the pre-defined `artifact_data` catalog containing some example data for the Piave basin will be downloaded to `~/.hydromt_data/` which is also used for this example. An overview of the available example data is provided [here](https://deltares.github.io/hydromt/latest/user_guide/data_existing_cat.html).\n",
    "This example data is a based on the data which is available from the Deltares p-drive. \n",
    "If you have acces to this drive, a pre-configured catalog file can be loaded using the `-d deltares_data` pre-defined catalog. \n",
    "\n",
    "More information on how to write a data catalog yml file can be found in the [HydroMT core docs](https://deltares.github.io/hydromt/latest/user_guide/data_prepare_cat.html) \n",
    "\n",
    "> **NOTE**: In HydroMT-Delft3D FM, an additionnal data catalog with all default parameters values is always used [parameters_data.yml](https://github.com/Deltares/hydromt_delft3dfm/tree/main/hydromt_delft3dfm/data/parameters_data.yml). It contains default values for 1D network elements and structures as well as default 2D landuse paramter mapping tables."
   ]
  },
  {
   "cell_type": "markdown",
   "id": "ebd31242",
   "metadata": {},
   "source": [
    "### Model setup configuration"
   ]
  },
  {
   "cell_type": "markdown",
   "id": "fb8282c9",
   "metadata": {},
   "source": [
    "The HydroMT configuration file contains the model setup configuration and determines which methods are used to prepare the different components of a Delft3D FM model and in which order and optionally sets non-default arguments for each method. This configuration is passed to HydroMT using `-i <path_to_configuration_file>`. The supported format are either YAML or INI. We have prepared several example yml-files which are available in the model repository [examples folder](https://github.com/Deltares/hydromt_delft3dfm/tree/main/examples) and from the [docs (building a model)](https://deltares.github.io/hydromt_delft3dfm/latest/user_guide/dflowfm_build). \n",
    "\n",
    "Each section, before indent, (e.g. setup_mesh2d) corresponds to a model method. All model methods are explained in the [docs (model components)](https://deltares.github.io/hydromt_delft3dfm/latest/user_guide/dflowfm_model_setup.html). The `global` section contains direct model initialisation properties."
   ]
  },
  {
   "cell_type": "markdown",
   "id": "cc3fd44d",
   "metadata": {},
   "source": [
    "We will load the default dflowfm build 2D yaml file for inspection:"
   ]
  },
  {
   "cell_type": "code",
   "execution_count": 3,
   "id": "e88d4aed",
   "metadata": {},
   "outputs": [
    {
     "name": "stdout",
     "output_type": "stream",
     "text": [
      "global:\n",
      "  crs: 3857\n",
      "\n",
      "setup_mesh2d:\n",
      "  region: \n",
      "    bbox: [12.4331, 46.4661, 12.5212, 46.5369]\n",
      "  res: 500\n",
      "\n",
      "setup_maps_from_rasterdataset:\n",
      "  raster_fn: merit_hydro\n",
      "  variables: [\"elevtn\"]\n",
      "  fill_method: nearest\n",
      "  interpolation_method: nearestNb\n",
      "\n",
      "setup_maps_from_raster_reclass:\n",
      "  raster_fn: vito\n",
      "  reclass_table_fn: vito_mapping\n",
      "  reclass_variables: ['roughness_manning', 'infiltcap']\n",
      "  interpolation_method: triangulation\n",
      "\n",
      "setup_rainfall_from_constant:\n",
      "  constant_value: 150\n",
      "\n"
     ]
    }
   ],
   "source": [
    "fn_yml = \"dflowfm_build2d.yml\"\n",
    "with open(fn_yml, \"r\") as f:\n",
    "    txt = f.read()\n",
    "print(txt)"
   ]
  },
  {
   "cell_type": "markdown",
   "id": "9607a239",
   "metadata": {},
   "source": [
    "Looking at this file, you see that we will prepare the following information for our model:\n",
    "\n",
    "- [global](https://deltares.github.io/hydromt_delft3dfm/latest/_generated/hydromt_delft3dfm.DFlowFMModel.html#hydromt_delft3dfm.DFlowFMModel): our model will be defined in the projected *crs* WGS84 EPSG 3857.\n",
    "- [setup_mesh2d](https://deltares.github.io/hydromt_delft3dfm/latest/_generated/hydromt_delft3dfm.DFlowFMModel.setup_mesh2d.html): we will prepare a regular grid for the region bounding box [12.4331, 46.4661, 12.5212, 46.5369] of *500***500* meters resolution.\n",
    "- [setup_maps_from_rasterdataset](https://deltares.github.io/hydromt_delft3dfm/latest/_generated/hydromt_delft3dfm.DFlowFMModel.setup_maps_from_rasterdataset.html): prepares gridded elevation (bedlevel) from *merit_hydro*. Here elevation is extracted from *merit_hydro* and any no data is filled using *nearest* method. When running, the Delft3D FM kernel will interpolate it to the mesh 2D grid using the *nearestNb* method.\n",
    "- [setup_maps_from_raster_reclass](https://deltares.github.io/hydromt_delft3dfm/latest/_generated/hydromt_delft3dfm.DFlowFMModel.setup_maps_from_raster_reclass.html): prepares gridded Manning roughness and infiltration capacity data from landuse, by reclassifying the landuse categories in *vito* landuse data, using parameters values defined per landuse category in *vito_mapping* table. When running, the Delft3D FM kernel will interpolate it to the mesh 2D grid using the *triangulation* method.\n",
    "- [setup_rainfall_from_constant](https://deltares.github.io/hydromt_delft3dfm/latest/_generated/hydromt_delft3dfm.DFlowFMModel.setup_rainfall_from_constant.html): prepares a constant rainfall rate of *150* mm/day as meteo forcing to the model. \n",
    "Feel free to use the links of each components to know more about how each function works and what are all the available settings."
   ]
  },
  {
   "cell_type": "markdown",
   "id": "b0242689",
   "metadata": {},
   "source": [
    "> **NOTE**: \n",
    " In this example, we apply region argument in setup_mesh2d. The region bbox are in WGS 84 as required, but the user should specify the dflowfm model destination CRS in the `global` section in order to allow to use grid definition data (rivers, pipes) from different data sources or CRS.  \n",
    "\n",
    "> **NOTE**:\n",
    "  If you need to use the same function twice, for example you have raster data for elevation and for roughness, you can list the `setup_maps_from_rasterdataset` as many times as you wish, by adding a repeating the method and adding a number at the end of the function name. Example: setup_maps_from_rasterdataset, setup_maps_from_rasterdataset1, setup_maps_from_rasterdataset2 etc."
   ]
  },
  {
   "cell_type": "markdown",
   "id": "12860ed2",
   "metadata": {},
   "source": [
    "### Building a 2D Delft3D FM model "
   ]
  },
  {
   "cell_type": "code",
   "execution_count": 4,
   "id": "hundred-trailer",
   "metadata": {
    "scrolled": true
   },
   "outputs": [
    {
     "name": "stdout",
     "output_type": "stream",
     "text": [
      "2023-10-25 13:46:41,322 - build - log - DEBUG - Writing log messages to new file C:\\SnapVolumesTemp\\MountPoints\\{45c63495-0000-0000-0000-100000000000}\\{79DE0690-9470-4166-B9EE-4548DC416BBD}\\SVROOT\\DATA\\hydromt_delft3dfm\\examples\\build\\dflowfm_2d\\hydromt.log.\n",
      "2023-10-25 13:46:41,323 - build - log - INFO - HydroMT version: 0.9.0\n",
      "2023-10-25 13:46:41,323 - build - main - INFO - Building instance of dflowfm model at C:\\SnapVolumesTemp\\MountPoints\\{45c63495-0000-0000-0000-100000000000}\\{79DE0690-9470-4166-B9EE-4548DC416BBD}\\SVROOT\\DATA\\hydromt_delft3dfm\\examples\\build\\dflowfm_2d.\n",
      "2023-10-25 13:46:41,323 - build - main - INFO - User settings:\n",
      "2023-10-25 13:46:42,961 - build - data_catalog - INFO - Reading data catalog archive artifact_data v0.0.8\n",
      "2023-10-25 13:46:42,966 - build - data_catalog - INFO - Parsing data catalog from C:\\Users\\veenstra\\.hydromt_data\\artifact_data\\v0.0.8\\data_catalog.yml\n",
      "2023-10-25 13:46:47,660 - build - model_api - INFO - Initializing dflowfm model from hydromt_delft3dfm (v0.1.2).\n",
      "2023-10-25 13:46:47,661 - build - data_catalog - INFO - Parsing data catalog from C:\\Users\\veenstra\\Anaconda3\\envs\\dsd_env\\Lib\\site-packages\\hydromt_delft3dfm\\data\\parameters_data.yml\n",
      "2023-10-25 13:46:47,673 - build - dflowfm - INFO - Initialising empty mdu file\n",
      "2023-10-25 13:46:47,681 - build - dflowfm - INFO - project crs: 3857\n",
      "2023-10-25 13:46:47,681 - build - model_api - INFO - setup_mesh2d.region: {'bbox': [12.4331, 46.4661, 12.5212, 46.5369]}\n",
      "2023-10-25 13:46:47,681 - build - model_api - INFO - setup_mesh2d.res: 500\n",
      "2023-10-25 13:46:47,737 - build - model_api - INFO - setup_maps_from_rasterdataset.raster_fn: merit_hydro\n",
      "2023-10-25 13:46:47,737 - build - model_api - INFO - setup_maps_from_rasterdataset.variables: ['elevtn']\n",
      "2023-10-25 13:46:47,738 - build - model_api - INFO - setup_maps_from_rasterdataset.fill_method: nearest\n",
      "2023-10-25 13:46:47,738 - build - model_api - INFO - setup_maps_from_rasterdataset.reproject_method: nearest\n",
      "2023-10-25 13:46:47,738 - build - model_api - INFO - setup_maps_from_rasterdataset.interpolation_method: nearestNb\n",
      "2023-10-25 13:46:47,738 - build - model_api - INFO - setup_maps_from_rasterdataset.locationtype: 2d\n",
      "2023-10-25 13:46:47,738 - build - model_api - INFO - setup_maps_from_rasterdataset.name: None\n",
      "2023-10-25 13:46:47,738 - build - model_api - INFO - setup_maps_from_rasterdataset.split_dataset: True\n",
      "2023-10-25 13:46:47,738 - build - model_api - INFO - Preparing maps data from raster source merit_hydro\n",
      "2023-10-25 13:46:47,743 - build - rasterdataset - INFO - Reading merit_hydro raster data from C:\\Users\\veenstra\\.hydromt_data\\artifact_data\\v0.0.8\\merit_hydro\\{variable}.tif\n",
      "2023-10-25 13:46:47,823 - build - rasterdataset - DEBUG - Clip to [12.433, 46.467, 12.523, 46.538] (epsg:4326))\n",
      "2023-10-25 13:46:47,882 - build - model_api - INFO - setup_maps_from_raster_reclass.raster_fn: vito\n",
      "2023-10-25 13:46:47,883 - build - model_api - INFO - setup_maps_from_raster_reclass.reclass_table_fn: vito_mapping\n",
      "2023-10-25 13:46:47,883 - build - model_api - INFO - setup_maps_from_raster_reclass.reclass_variables: ['roughness_manning', 'infiltcap']\n",
      "2023-10-25 13:46:47,883 - build - model_api - INFO - setup_maps_from_raster_reclass.fill_method: None\n",
      "2023-10-25 13:46:47,883 - build - model_api - INFO - setup_maps_from_raster_reclass.reproject_method: nearest\n",
      "2023-10-25 13:46:47,883 - build - model_api - INFO - setup_maps_from_raster_reclass.interpolation_method: triangulation\n",
      "2023-10-25 13:46:47,883 - build - model_api - INFO - setup_maps_from_raster_reclass.locationtype: 2d\n",
      "2023-10-25 13:46:47,883 - build - model_api - INFO - setup_maps_from_raster_reclass.name: None\n",
      "2023-10-25 13:46:47,883 - build - model_api - INFO - setup_maps_from_raster_reclass.split_dataset: True\n",
      "2023-10-25 13:46:47,883 - build - model_api - INFO - Preparing map data by reclassifying the data in vito based on vito_mapping\n",
      "2023-10-25 13:46:47,885 - build - rasterdataset - INFO - Reading vito raster data from C:\\Users\\veenstra\\.hydromt_data\\artifact_data\\v0.0.8\\vito.tif\n",
      "2023-10-25 13:46:47,916 - build - rasterdataset - DEBUG - Clip to [12.433, 46.467, 12.523, 46.538] (epsg:4326))\n",
      "2023-10-25 13:46:47,920 - build - dataframe - INFO - Reading vito_mapping csv data from C:\\Users\\veenstra\\Anaconda3\\envs\\dsd_env\\Lib\\site-packages\\hydromt_delft3dfm\\data\\landuse\\vito_mapping.csv\n",
      "2023-10-25 13:46:47,978 - build - model_api - INFO - setup_rainfall_from_constant.constant_value: 150\n",
      "2023-10-25 13:46:47,978 - build - dflowfm - INFO - Preparing rainfall meteo forcing from uniform timeseries.\n",
      "2023-10-25 13:46:47,981 - build - boundaries - INFO - Preparing global (spatially uniform) timeseries.\n",
      "2023-10-25 13:46:47,981 - build - boundaries - WARNING - time unit days is not supported by the current GUI version: 2022.04\n",
      "2023-10-25 13:46:47,984 - build - dflowfm - INFO - Writing model data to C:\\SnapVolumesTemp\\MountPoints\\{45c63495-0000-0000-0000-100000000000}\\{79DE0690-9470-4166-B9EE-4548DC416BBD}\\SVROOT\\DATA\\hydromt_delft3dfm\\examples\\build\\dflowfm_2d\n",
      "2023-10-25 13:46:47,984 - build - dflowfm - INFO - Writing maps files to C:\\SnapVolumesTemp\\MountPoints\\{45c63495-0000-0000-0000-100000000000}\\{79DE0690-9470-4166-B9EE-4548DC416BBD}\\SVROOT\\DATA\\hydromt_delft3dfm\\examples\\build\\dflowfm_2d\\maps\n",
      "2023-10-25 13:46:48,152 - build - model_api - DEBUG - Writing file geoms/region.geojson\n",
      "2023-10-25 13:46:48,299 - build - model_api - DEBUG - Writing file geoms/mesh2d.geojson\n",
      "2023-10-25 13:46:48,443 - build - dflowfm - INFO - Writting forcing files.\n",
      "2023-10-25 13:46:48,517 - build - dflowfm - INFO - Initialising empty dimr file\n",
      "2023-10-25 13:46:48,517 - build - dflowfm - INFO - Adding dflowfm component to dimr config\n",
      "2023-10-25 13:46:48,518 - build - dflowfm - INFO - Writing model dimr file to C:\\SnapVolumesTemp\\MountPoints\\{45c63495-0000-0000-0000-100000000000}\\{79DE0690-9470-4166-B9EE-4548DC416BBD}\\SVROOT\\DATA\\hydromt_delft3dfm\\examples\\build\\dflowfm_2d\\dimr_config.xml\n"
     ]
    },
    {
     "name": "stderr",
     "output_type": "stream",
     "text": [
      "The nodata value None is not in the reclass table.None will be used for the params.\n",
      "INFO:build:Initialising empty dimr file\n",
      "INFO:build:Adding dflowfm component to dimr config\n",
      "INFO:build:Writing model dimr file to C:\\SnapVolumesTemp\\MountPoints\\{45c63495-0000-0000-0000-100000000000}\\{79DE0690-9470-4166-B9EE-4548DC416BBD}\\SVROOT\\DATA\\hydromt_delft3dfm\\examples\\build\\dflowfm_2d\\dimr_config.xml\n"
     ]
    }
   ],
   "source": [
    "# NOTE: copy this line (without !) to your shell for more direct feedback - should take a couple of seconds to run\n",
    "!hydromt build dflowfm \"./build/dflowfm_2d\" -i dflowfm_build2d.yml -d artifact_data --fo -vv"
   ]
  },
  {
   "cell_type": "markdown",
   "id": "b31e92d2",
   "metadata": {},
   "source": [
    "The example above means the following: run **hydromt build** with:\n",
    "\n",
    "* `dflowfm` : i.e. build a FM model\n",
    "* `./build/dflowfm_2d` : output model folder\n",
    "* `-i dflowfm_build1d.yml`: model build configuration file\n",
    "* `-d artifact_data`: data catalog to use. Here the default artifact data catalog with global data for Northern Italy.\n",
    "* `--fo`: force overwritting in case a model already exists in the output folder.\n",
    "* `-vv` : give some extra verbosity (2 * v) to display feedback on screen. Now debug and info messages are provided rather than only warnings and errors.\n",
    "\n",
    "> NOTE: You can use as many data catalogs as you need within the same command line, by repeating the `-d` options and name of the catalog to use several times."
   ]
  },
  {
   "cell_type": "markdown",
   "id": "c82eaef8",
   "metadata": {},
   "source": [
    "Next we check which files have been created."
   ]
  },
  {
   "cell_type": "code",
   "execution_count": 5,
   "id": "8f3b7903",
   "metadata": {},
   "outputs": [
    {
     "name": "stdout",
     "output_type": "stream",
     "text": [
      "./build/dflowfm_2d/\n",
      " - dimr_config.xml\n",
      " - hydromt.log\n",
      " - hydromt_data.yml\n",
      "./build/dflowfm_2d/dflowfm\n",
      " - bnd.ext\n",
      " - DFlowFM.mdu\n",
      " - fieldFile.ini\n",
      " - fm_net.nc\n",
      " - meteo_boundaryconditions.bc\n",
      "./build/dflowfm_2d/geoms\n",
      " - mesh2d.geojson\n",
      " - region.geojson\n",
      "./build/dflowfm_2d/maps\n",
      " - bedlevel.tif\n",
      " - frictioncoefficient.tif\n",
      " - InfiltrationCapacity.tif\n"
     ]
    }
   ],
   "source": [
    "import os\n",
    "\n",
    "root = \"./build/dflowfm_2d/\"\n",
    "for path, _, files in os.walk(root):\n",
    "    print(path)\n",
    "    for name in files:\n",
    "        print(f\" - {name}\")"
   ]
  },
  {
   "cell_type": "markdown",
   "id": "2eed76e4",
   "metadata": {},
   "source": [
    "The model root should contain three files and four folders:\n",
    "\n",
    "- dimr_config.xml: Configuration file to execute Delft3D FM in Deltares Integrated Model Runner (DIMR).\n",
    "- hydromt.log: log saved by HydroMT on model building steps.\n",
    "- hydromt_data.yml: information saved by HydroMT on used datasets for reproducibility.\n",
    "- **dflowfm** folder: dflowfm files, here for our 2D model. Contains all necessary information to run a 2D model including the mesh2d, and settings and paths to the mesh2d data files in the maps folder. The configuration MDU file is also created.\n",
    "- **geoms** folder: folder containing a copy of the dflowfm data in an easily readable GIS format rather than the ini or UGRID netcdf file.\n",
    "- **maps** folder: folder containing regular gridded data that Delft3D FM can interpolate to the 2D mesh grid. Here we see our elevation or bedlevel data, as well as the roughness / friction and infiltration capacity maps."
   ]
  },
  {
   "cell_type": "markdown",
   "id": "adef7fa1",
   "metadata": {},
   "source": [
    "### Visualize and/or inspect model schematization"
   ]
  },
  {
   "cell_type": "markdown",
   "id": "20ce9df3",
   "metadata": {},
   "source": [
    "* We can now load the **dimr_config.xml** into **Delft3D FM GUI**.\n",
    "* The **dflowfm plot** [example notebook](https://deltares.github.io/hydromt_delft3dfm/latest/_examples/plot_dflowfm_mesh.html) contains scripts to visualize your model in python: "
   ]
  }
 ],
 "metadata": {
  "kernelspec": {
   "display_name": "Python 3 (ipykernel)",
   "language": "python",
   "name": "python3"
  },
  "language_info": {
   "codemirror_mode": {
    "name": "ipython",
    "version": 3
   },
   "file_extension": ".py",
   "mimetype": "text/x-python",
   "name": "python",
   "nbconvert_exporter": "python",
   "pygments_lexer": "ipython3",
   "version": "3.11.6"
  },
  "vscode": {
   "interpreter": {
    "hash": "5fda536963eae36dbaef69f7df44483d2713515b4e134e53fb983ec0eb9438d0"
   }
  }
 },
 "nbformat": 4,
 "nbformat_minor": 5
}
